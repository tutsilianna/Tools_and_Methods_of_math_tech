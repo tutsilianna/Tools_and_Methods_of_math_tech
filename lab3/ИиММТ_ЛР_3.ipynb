{
  "cells": [
    {
      "cell_type": "markdown",
      "metadata": {
        "id": "view-in-github",
        "colab_type": "text"
      },
      "source": [
        "<a href=\"https://colab.research.google.com/github/tutsilianna/Tools_and_Methods_of_math_tech/blob/main/lab3/%D0%98%D0%B8%D0%9C%D0%9C%D0%A2_%D0%9B%D0%A0_3.ipynb\" target=\"_parent\"><img src=\"https://colab.research.google.com/assets/colab-badge.svg\" alt=\"Open In Colab\"/></a>"
      ]
    },
    {
      "cell_type": "markdown",
      "metadata": {
        "id": "CaWQi564lEhI"
      },
      "source": [
        "**Лабораторная работа №3**\n",
        "\n",
        "\n",
        "---\n",
        "\n",
        "\n",
        "**Команда №2:**\n",
        "\n",
        "*Давыдова Кристина Сергеевна*        \n",
        "*Поздышева Татьяна Сергеевна*\n",
        "\n",
        "---\n",
        "\n",
        "\n",
        "\n",
        "**\"Численные методы решения СЛАУ\"**\n",
        "\n",
        "*Цель лабораторной работы*: реализовать методы LU-разложения и итерационные методы для решения СЛАУ численно, а также сравнить их эффективность.\n"
      ]
    },
    {
      "cell_type": "markdown",
      "source": [
        "1. Реализовать алгоритм LU-разложения матрицы, а также метод решения СЛАУ с использованием LU-разложения.\n",
        "\n",
        "2. Реализовать итерационный метод решения СЛАУ (метод Зейделя, Якоби или верхней релаксации на выбор).\n",
        "\n",
        "3. Провести исследование реализованных методов на системах с матрицами $A$, число обусловленности которых регулируется за счет изменения диагонального преобладания. Внедиагональные элементы матрицы $A$ выбираются случайным образом из множества $a_{ij} ∈ {0, −1, −2, −3, −4}$, а диагональные элементы определяются из условия\n",
        "![image.png](data:image/png;base64,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)\n",
        "\n",
        "где сумма вычисляется только по строке.\n",
        "\n",
        "Для исследования работы методов рекомендуется решать СЛАУ вида:\n",
        "\n",
        "$Ax = F$\n",
        "\n",
        "где для определения правой части $F$ рассматривается вектор $x =\n",
        "(1, 2, . . . , n)^T$, что позволяет в дальнейшем сравнивать точное и приближенное решение.\n",
        "\n",
        "4. Оценить зависимость числа обусловленности и точности полученного решения в зависимости от параметра $k$.\n",
        "\n",
        "5. Провести аналогичные исследования на матрицах Гильберта, которые строятся согласно формуле\n",
        "\n",
        "![image.png](data:image/png;base64,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)\n",
        "\n",
        "где $n$ - размерность матрицы.\n",
        "\n",
        "6. Сравнить между собой прямые и итерационные методы по эффективности методов в зависимости от размеров n матрицы:\n",
        "\n",
        "$n = 2^m, m = 1, .., 9$"
      ],
      "metadata": {
        "id": "cfn6l1ps-QUJ"
      }
    },
    {
      "cell_type": "markdown",
      "metadata": {
        "id": "HCfwDSC_pRe6"
      },
      "source": [
        "##Реализован алгоритм LU-разложения матрицы и метод решения СЛАУ с использованием LU-разложения"
      ]
    },
    {
      "cell_type": "markdown",
      "source": [
        "**$LU$ -разложение** — это представление матрицы $A$ в виде $A = L \\cdot U$, где $L$ — нижнетреугольная матрица с еденичной диагональю, а $U$ — верхнетреугольная матрица. Данное разложение может быть применено только к невырожденной матрице, поэтому далее будем считать что матрица $A$ невырождена.\n",
        "\n",
        "\n",
        "Если известно LU-разложение матрицы $A$, $A$ =$ L\\cdot U$, исходная система может быть записана как $LUx=b.$\n",
        "\n",
        "Эта система может быть решена в два шага.\n",
        "\n",
        "1. На первом шаге решается система $Ly=b.$ Поскольку $L$ — нижняя треугольная матрица, эта система решается непосредственно прямой подстановкой.\n",
        "2. На втором шаге решается система $Ux=y$. Поскольку $U$ — верхняя треугольная матрица, эта система решается непосредственно обратной подстановкой."
      ],
      "metadata": {
        "id": "yJJwDOmPNyjE"
      }
    },
    {
      "cell_type": "markdown",
      "metadata": {
        "id": "quIrNXNOpZfx"
      },
      "source": [
        "Программа начинает с импорта необходимых модулей, включая `numpy` для работы с матрицами и векторами."
      ]
    },
    {
      "cell_type": "code",
      "execution_count": null,
      "metadata": {
        "id": "dbIKUYE0palI"
      },
      "outputs": [],
      "source": [
        "import numpy as np\n",
        "import time\n",
        "from sympy import symbols, Matrix, pprint"
      ]
    },
    {
      "cell_type": "markdown",
      "metadata": {
        "id": "NcPz3u8opgVJ"
      },
      "source": [
        "Затем определяются функции `lu_decomposition()` и `solve_lu()` для выполнения LU-разложения и решения СЛАУ."
      ]
    },
    {
      "cell_type": "code",
      "execution_count": null,
      "metadata": {
        "id": "okY8ux3ophCi"
      },
      "outputs": [],
      "source": [
        "def lu_decomposition(matrix):\n",
        "    n = len(matrix)\n",
        "    L = np.eye(n)\n",
        "    U = np.zeros((n, n))\n",
        "\n",
        "    for i in range(n):\n",
        "        for j in range(n):\n",
        "            if i <= j:\n",
        "                U[i][j] = matrix[i][j] - sum(L[i][k]*U[k][j] for k in range(i))\n",
        "            elif i > j:\n",
        "                L[i][j] = (matrix[i][j] - sum(L[i][k]*U[k][j] for k in range(i))) / U[j][j]\n",
        "    return L, U"
      ]
    },
    {
      "cell_type": "code",
      "execution_count": null,
      "metadata": {
        "id": "XvAaH_Akpj66"
      },
      "outputs": [],
      "source": [
        "def solve_lu(L, U, b):\n",
        "    n = len(L)\n",
        "    y = np.zeros(n)\n",
        "    x = np.zeros(n)\n",
        "\n",
        "    # прямая подстановка (Ly = b)\n",
        "    for i in range(n):\n",
        "        y[i] = b[i] - sum(L[i][j] * y[j] for j in range(i))\n",
        "\n",
        "    # обратная подстановка (Ux = y)\n",
        "    for i in range(n - 1, -1, -1):\n",
        "        x[i] = (y[i] - sum(U[i][j] * x[j] for j in range(i + 1, n))) / U[i][i]\n",
        "\n",
        "    return x"
      ]
    },
    {
      "cell_type": "markdown",
      "source": [
        "формулы [здесь](https://infofaq.ru/reshenie-slau-metodom-lu-razlozheniy.html)"
      ],
      "metadata": {
        "id": "2Yk_7ZOklBZc"
      }
    },
    {
      "cell_type": "markdown",
      "metadata": {
        "id": "bgh4zF4-pviD"
      },
      "source": [
        "В основной части программы генерируется случайная матрица `A` и вектор `b`."
      ]
    },
    {
      "cell_type": "code",
      "execution_count": null,
      "metadata": {
        "id": "D_nLUWcVpwVy"
      },
      "outputs": [],
      "source": [
        "n = 3\n",
        "A = np.random.rand(n, n)\n",
        "b = np.random.rand(n)"
      ]
    },
    {
      "cell_type": "markdown",
      "metadata": {
        "id": "0iq0usl6pyg3"
      },
      "source": [
        "Далее выполняется LU-разложение, затем вызывается функция `solve_lu()`, которая решает СЛАУ с использованием LU-разложения."
      ]
    },
    {
      "cell_type": "code",
      "execution_count": null,
      "metadata": {
        "id": "bovVMSRpqbiR"
      },
      "outputs": [],
      "source": [
        "L, U = lu_decomposition(A)\n",
        "x = solve_lu(L, U, b)"
      ]
    },
    {
      "cell_type": "markdown",
      "metadata": {
        "id": "IbbBPgTSqAmQ"
      },
      "source": [
        "Полученные матрицы L и U выводятся на экран и решение `x` выводится на экран."
      ]
    },
    {
      "cell_type": "code",
      "execution_count": null,
      "metadata": {
        "colab": {
          "base_uri": "https://localhost:8080/"
        },
        "id": "WnLcOohBqdaa",
        "outputId": "a94265fa-9820-4175-efd1-5c600023d30a"
      },
      "outputs": [
        {
          "output_type": "stream",
          "name": "stdout",
          "text": [
            "Матрица A:\n",
            "\n",
            "⎡0.54513461607837   0.503000895876319  0.26646612574203 ⎤\n",
            "⎢                                                       ⎥\n",
            "⎢0.569533540464508  0.897068685992642  0.270444030938739⎥\n",
            "⎢                                                       ⎥\n",
            "⎣0.799065532115182  0.764177088738253  0.445546894960659⎦\n",
            "\n",
            "Вектор b:\n",
            "\n",
            "⎡0.470348377075728⎤\n",
            "⎢                 ⎥\n",
            "⎢0.127251678068551⎥\n",
            "⎢                 ⎥\n",
            "⎣0.115939723222491⎦\n",
            "\n",
            "L:\n",
            "\n",
            "⎡      1.0                 0            0 ⎤\n",
            "⎢                                         ⎥\n",
            "⎢1.04475761337935         1.0           0 ⎥\n",
            "⎢                                         ⎥\n",
            "⎣1.4658132295167   0.0723223881659477  1.0⎦\n",
            "\n",
            "U:\n",
            "\n",
            "⎡0.54513461607837  0.503000895876319   0.26646612574203  ⎤\n",
            "⎢                                                        ⎥\n",
            "⎢       0          0.371554670489222  -0.0079484826379469⎥\n",
            "⎢                                                        ⎥\n",
            "⎣       0                  0           0.055532175876603 ⎦\n",
            "\n",
            "Решение x:\n",
            "\n",
            "⎡6.77792009684407 ⎤\n",
            "⎢                 ⎥\n",
            "⎢-1.19085030278667⎥\n",
            "⎢                 ⎥\n",
            "⎣-9.85315381555392⎦\n"
          ]
        }
      ],
      "source": [
        "print(\"Матрица A:\\n\")\n",
        "pprint(Matrix(A))\n",
        "\n",
        "print(\"\\nВектор b:\\n\")\n",
        "pprint(Matrix(b))\n",
        "\n",
        "print('\\nL:\\n')\n",
        "pprint(Matrix(L))\n",
        "\n",
        "print('\\nU:\\n')\n",
        "pprint(Matrix(U))\n",
        "\n",
        "print(\"\\nРешение x:\\n\")\n",
        "pprint(Matrix(x))"
      ]
    },
    {
      "cell_type": "markdown",
      "metadata": {
        "id": "5_hPEY9DtUBw"
      },
      "source": [
        "##Реализован метод Зейделя и Якоби для решения СЛАУ, используя ранее сгенерированные случайные матрицы `A` и вектор `b`"
      ]
    },
    {
      "cell_type": "markdown",
      "metadata": {
        "id": "KDlslDvjtdPw"
      },
      "source": [
        "Для решения СЛАУ методом Зейдаля, нужно сначала разложить матрицу `A` на сумму трех матриц:\n",
        "\n",
        "`A = D + L + U`\n",
        "\n",
        "Где `D` - диагональная матрица, `L` - нижнетреугольная матрица, `U `- верхнетреугольная матрица."
      ]
    },
    {
      "cell_type": "markdown",
      "source": [
        "Определена функция `zeidel_iteration`, которая решает СЛАУ методом Зейделя. Функция принимает матрицу коэффициентов `A`, вектор правой части `b`, а также параметры `max_iterations` - максимальное количество итераций и `eps` - точность сходимости.\n",
        "\n",
        "Внутри функции выполняется итерационный процесс с использованием формулы Зейделя. Изначально задается начальное приближение `x` - вектор нулей размерности равной числу неизвестных.\n",
        "\n",
        "- Сумма `s1`, которая представляет собой скалярное произведение строки `L[i] `матрицы `L` и вектора `x`. Это дает сумму элементов `L[i, j] * x[j]` для всех `j` от `0` до `n-1`, где `L[i, j]` - элемент матрицы `L` на позиции `(i, j)`.\n",
        "\n",
        "- Сумма `s2`, которая представляет собой скалярное произведение строки `U[i]` матрицы `U` и вектора `x_prev.` Это дает сумму элементов `U[i, j] * x_prev[j]` для всех `j` от `0` до `n-1`, где `U[i, j]` - элемент матрицы U на позиции `(i, j)`.\n",
        "\n",
        "- Вычисляется новое значение `x[i] - i-й` компоненты вектора `x`. Оно равно `(b[i] - s1 - s2) / A[i, i]`, где `b[i] - i-й` элемент вектора `b`, `A[i, i]` - элемент матрицы A на позиции `(i, i)`.\n",
        "\n",
        "Далее, в цикле выполняются итерации до тех пор, пока не будет достигнута максимальное количество итераций или пока не будет достигнута заданная точность сходимости. На каждой итерации сохраняется предыдущее приближение, вычисляется новое приближение `x` по формуле Зейделя.\n",
        "\n",
        "Внутри цикла также проверяется условие сходимости - разность между текущим и предыдущим приближением должна быть меньше заданной точности `eps`. Если условие сходимости выполнено, цикл прерывается.\n"
      ],
      "metadata": {
        "id": "KyPIRoqCWIRI"
      }
    },
    {
      "cell_type": "code",
      "source": [
        "def zeidel_iteration(A, b, max_iterations=1000, eps=1e-8):\n",
        "    n = len(A)\n",
        "    x = np.zeros(n)  # начальное приближение\n",
        "\n",
        "    D = np.diag(np.diag(A))# Матрица D - диагональная матрица, содержащая только диагональные элементы матрицы A\n",
        "    L = np.tril(A, -1)# Матрица L - нижняя треугольная матрица, содержащая элементы: L[i,j] = A[i,j], i > j\n",
        "    U = np.triu(A, 1) # Матрица U - верхняя треугольная матрица, содержащая элементы: U[i,j] = A[i,j], i < j\n",
        "\n",
        "    iteration_count = 0\n",
        "    while iteration_count < max_iterations:\n",
        "        x_prev = x.copy()  # сохраняем предыдущее приближение\n",
        "        for i in range(n):\n",
        "            s1 = np.dot(L[i], x)\n",
        "            s2 = np.dot(U[i], x_prev)\n",
        "            x[i] = (b[i] - s1 - s2) / A[i, i]\n",
        "        if np.linalg.norm(x - x_prev) < eps:  # проверка условия сходимости\n",
        "            break\n",
        "        iteration_count += 1\n",
        "\n",
        "    return x, iteration_count  # Возвращаем решение x, количество проведенных итераций"
      ],
      "metadata": {
        "id": "mH-rGInockIE"
      },
      "execution_count": null,
      "outputs": []
    },
    {
      "cell_type": "code",
      "execution_count": null,
      "metadata": {
        "id": "4KvYI6g1vTjm",
        "colab": {
          "base_uri": "https://localhost:8080/"
        },
        "outputId": "0c96d5ed-5c06-412f-e3fb-57f4603144d3"
      },
      "outputs": [
        {
          "output_type": "stream",
          "name": "stdout",
          "text": [
            "Решение СЛАУ методом Зейдаля:\n",
            "\n",
            "⎡0.0408595024068766⎤\n",
            "⎢                  ⎥\n",
            "⎢0.743944564961388 ⎥\n",
            "⎢                  ⎥\n",
            "⎣0.0954415913899389⎦\n",
            "\n",
            "Количество проведенных итераций: 27\n"
          ]
        }
      ],
      "source": [
        "solution, iteration = zeidel_iteration(A, b)\n",
        "\n",
        "print(\"Решение СЛАУ методом Зейдаля:\\n\")\n",
        "pprint(Matrix(solution))\n",
        "print(\"\\nКоличество проведенных итераций:\", iteration)"
      ]
    },
    {
      "cell_type": "code",
      "source": [
        "import copy\n",
        "import math\n",
        "\n",
        "def isNeedToComplete(x_old, x_new):\n",
        "    eps = 0.0001\n",
        "    sum_up = 0\n",
        "    sum_low = 0\n",
        "    for k in range(0, len(x_old)):\n",
        "        sum_up += ( x_new[k] - x_old[k] ) ** 2\n",
        "        sum_low += ( x_new[k] ) ** 2\n",
        "\n",
        "    return math.sqrt( sum_up / sum_low ) < eps\n",
        "\n",
        "def Jacobi_method(A, b, x0, max_iter=1000, eps=0.000001):\n",
        "    flag = True\n",
        "    count_iter = 1\n",
        "\n",
        "    while flag and count_iter < max_iter:\n",
        "        if count_iter == 1:\n",
        "            x_prev = copy.deepcopy(x0)\n",
        "        else:\n",
        "            x_prev = copy.deepcopy(x)\n",
        "\n",
        "        #x = [b[i]/A[i][i] - sum(A[i][j]*x_pred[j]/A[i][i] for j in range(1, i)) - sum(A[i][j]*x_pred[j]/A[i][i] for j in range(i+1, len(b))) for i in range(len(b))]\n",
        "        x = []\n",
        "        for i in range(len(b)):\n",
        "            sum_ = 0\n",
        "            for j in range(1, len(b)):\n",
        "                if i != j:\n",
        "                    sum_ += A[i][j]*x_prev[j]/A[i][i]\n",
        "            x.append(b[i]/A[i][i] - sum_)\n",
        "        count_iter += 1\n",
        "\n",
        "        if math.fabs(np.linalg.norm(np.array(x) - np.array(x_prev))) < eps:\n",
        "            flag = False\n",
        "\n",
        "    return x, count_iter"
      ],
      "metadata": {
        "id": "yhpLt2Vdh_KM"
      },
      "execution_count": null,
      "outputs": []
    },
    {
      "cell_type": "code",
      "source": [
        "x_jacobi, num_iter_j = Jacobi_method(A, b, x0=[1 for i in range(len(b))])\n",
        "\n",
        "print(\"Решение x (метод Якоби):\\n\")\n",
        "pprint(Matrix(x_jacobi))\n",
        "print(\"\\nКоличество итераций:\", num_iter_j)"
      ],
      "metadata": {
        "colab": {
          "base_uri": "https://localhost:8080/"
        },
        "id": "9HA_s81Zg5IV",
        "outputId": "80a92960-45c6-4dc6-e105-c1cf76d14000"
      },
      "execution_count": null,
      "outputs": [
        {
          "output_type": "stream",
          "name": "stdout",
          "text": [
            "Решение x (метод Якоби):\n",
            "\n",
            "⎡-54.270848654289 ⎤\n",
            "⎢                 ⎥\n",
            "⎢ 8.3219810495801 ⎥\n",
            "⎢                 ⎥\n",
            "⎣-3.39111123126549⎦\n",
            "\n",
            "Количество итераций: 107\n"
          ]
        }
      ]
    },
    {
      "cell_type": "code",
      "source": [
        "A_ = [[10, 1, -1],\n",
        "     [1, 10, -1],\n",
        "     [-1, 1, 10]]\n",
        "\n",
        "b_ = [11, 10, 10]\n",
        "\n",
        "x_jacobi_, num_iter_j_ = Jacobi_method(A_, b_, x0=[1,1,1])\n",
        "\n",
        "print(\"Решение x (метод Якоби):\\n\")\n",
        "pprint(Matrix(x_jacobi_))\n",
        "print(\"\\nКоличество итераций:\", num_iter_j_)\n",
        "print(\"\\nТочное решение:\\n\")\n",
        "pprint(Matrix([1, 1, 1]))"
      ],
      "metadata": {
        "colab": {
          "base_uri": "https://localhost:8080/"
        },
        "id": "cs4MYfw0jEHg",
        "outputId": "c4acde3e-7171-4d93-a9f9-4053b97df588"
      },
      "execution_count": null,
      "outputs": [
        {
          "output_type": "stream",
          "name": "stdout",
          "text": [
            "Решение x (метод Якоби):\n",
            "\n",
            "⎡1.080198 ⎤\n",
            "⎢         ⎥\n",
            "⎢1.0891089⎥\n",
            "⎢         ⎥\n",
            "⎣0.8910891⎦\n",
            "\n",
            "Количество итераций: 8\n",
            "\n",
            "Точное решение:\n",
            "\n",
            "⎡1⎤\n",
            "⎢ ⎥\n",
            "⎢1⎥\n",
            "⎢ ⎥\n",
            "⎣1⎦\n"
          ]
        }
      ]
    },
    {
      "cell_type": "markdown",
      "metadata": {
        "id": "4DTsuES3wg-4"
      },
      "source": [
        "##Исследование методов LU-разложения, метода Зейделя, метода Якоби на системах с матрицами `A`, где число обусловленности регулируется путем изменения диагонального преобладания."
      ]
    },
    {
      "cell_type": "markdown",
      "metadata": {
        "id": "6ayWHzES2dAH"
      },
      "source": [
        "Приведенный код создает матрицу A размером n x n, где n - заданное число, и число обусловленности контролируется переменной k. Затем он решает систему линейных уравнений Ax = F с использованием функции `np.linalg.solve()`. Результат выводится в виде вектора x.\n",
        "\n",
        "1. Определяем функцию `generate_matrix(n, k)`, которая генерирует матрицу `A` размером `n x n` с внедиагональными элементами, выбранными случайным образом из интервала от -4 до 0.\n",
        "\n",
        "2. В цикле проходим по строкам матрицы `A` и указываем значения для диагональных элементов в соответствии с заданными условиями. Если строка равна 1, то диагональный элемент равен отрицательной сумме внедиагональных элементов плюс 10 в степени равной минус `k`. В остальных случаях диагональный элемент равен отрицательной сумме внедиагональных элементов.\n",
        "\n",
        "3. В функции `solve_system(A)` решаем систему линейных уравнений с использованием функции `np.linalg.solve()`. Матрица `A` и правая часть системы `F` задаются соответствующими параметрами.\n"
      ]
    },
    {
      "cell_type": "code",
      "source": [
        "def generate_matrix(n, k):\n",
        "    A1 = np.random.uniform(-4, 0, (n, n))\n",
        "\n",
        "    for i in range(n):\n",
        "        if i == 0:\n",
        "            A1[i, i] = -np.sum(A1[i, :]) + 10**(-k)\n",
        "        else:\n",
        "            A1[i, i] = -np.sum(A1[i, :])\n",
        "\n",
        "    return A1\n",
        "\n",
        "def solve_system(A1, F):\n",
        "    n = A1.shape[0]\n",
        "    x_t = np.arange(1, n+1)\n",
        "    F = np.transpose(x_t)\n",
        "\n",
        "    return np.linalg.solve(A1, F)"
      ],
      "metadata": {
        "id": "wu-_yNyLrH5e"
      },
      "execution_count": null,
      "outputs": []
    },
    {
      "cell_type": "code",
      "source": [
        "k = 3\n",
        "A1 = generate_matrix(n, k)\n",
        "x_t = solve_system(A1, F)\n",
        "F = np.arange(1, n+1)\n",
        "\n",
        "print(\"Новая матрица А:\\n\")\n",
        "pprint(Matrix(A1))\n",
        "print(\"\\nПравая часть - Вектор F:\\n\")\n",
        "pprint(Matrix(F))\n",
        "print(\"\\nРешение СЛАУ:\\n\")\n",
        "pprint(Matrix(x_t))"
      ],
      "metadata": {
        "colab": {
          "base_uri": "https://localhost:8080/"
        },
        "id": "lxYUWXtnJAF8",
        "outputId": "66446798-5b1b-4268-a46b-bfda9cd9aae3"
      },
      "execution_count": null,
      "outputs": [
        {
          "output_type": "stream",
          "name": "stdout",
          "text": [
            "Новая матрица А:\n",
            "\n",
            "⎡ 3.38848730885029   -0.673471376430906  -2.03444003446313⎤\n",
            "⎢                                                         ⎥\n",
            "⎢-0.476345825527004   4.97789416304304   -2.3048744719066 ⎥\n",
            "⎢                                                         ⎥\n",
            "⎣-2.08304947941584   -0.195321596440948  4.96447924340019 ⎦\n",
            "\n",
            "Правая часть - Вектор F:\n",
            "\n",
            "⎡1⎤\n",
            "⎢ ⎥\n",
            "⎢2⎥\n",
            "⎢ ⎥\n",
            "⎣3⎦\n",
            "\n",
            "Решение СЛАУ:\n",
            "\n",
            "⎡1.19037402898179⎤\n",
            "⎢                ⎥\n",
            "⎢1.0458038364528 ⎥\n",
            "⎢                ⎥\n",
            "⎣1.14490882076642⎦\n"
          ]
        }
      ]
    },
    {
      "cell_type": "code",
      "source": [
        "print('\\nL:\\n')\n",
        "pprint(Matrix(L))\n",
        "\n",
        "print('\\nU:\\n')\n",
        "pprint(Matrix(U))\n",
        "\n",
        "print(\"\\nРешение x:\\n\")\n",
        "pprint(Matrix(x))\n",
        "\n",
        "solution, iteration = zeidel_iteration(A1, F)\n",
        "print(\"\\nРешение СЛАУ методом Зейдаля:\\n\")\n",
        "pprint(Matrix(solution))\n",
        "print(\"\\nКоличество проведенных итераций:\", iteration)\n",
        "\n",
        "x_jacobi, num_iter_j = Jacobi_method(A1, F, x0=[1 for i in range(len(F))])\n",
        "print(\"\\nРешение x (метод Якоби):\\n\")\n",
        "pprint(Matrix(x_jacobi))\n",
        "print(\"\\nКоличество итераций:\", num_iter_j)"
      ],
      "metadata": {
        "colab": {
          "base_uri": "https://localhost:8080/"
        },
        "id": "HP768-UHYHBP",
        "outputId": "2128feb7-5281-4ce8-b7a1-256d0f5a3c93"
      },
      "execution_count": null,
      "outputs": [
        {
          "output_type": "stream",
          "name": "stdout",
          "text": [
            "\n",
            "L:\n",
            "\n",
            "⎡      1.0                 0            0 ⎤\n",
            "⎢                                         ⎥\n",
            "⎢1.04475761337935         1.0           0 ⎥\n",
            "⎢                                         ⎥\n",
            "⎣1.4658132295167   0.0723223881659477  1.0⎦\n",
            "\n",
            "U:\n",
            "\n",
            "⎡0.54513461607837  0.503000895876319   0.26646612574203  ⎤\n",
            "⎢                                                        ⎥\n",
            "⎢       0          0.371554670489222  -0.0079484826379469⎥\n",
            "⎢                                                        ⎥\n",
            "⎣       0                  0           0.055532175876603 ⎦\n",
            "\n",
            "Решение x:\n",
            "\n",
            "⎡6.77792009684407 ⎤\n",
            "⎢                 ⎥\n",
            "⎢-1.19085030278667⎥\n",
            "⎢                 ⎥\n",
            "⎣-9.85315381555392⎦\n",
            "\n",
            "Решение СЛАУ методом Зейдаля:\n",
            "\n",
            "⎡ -4.0141849307989 ⎤\n",
            "⎢                  ⎥\n",
            "⎢-0.502763810566452⎥\n",
            "⎢                  ⎥\n",
            "⎣ 1.09257243825587 ⎦\n",
            "\n",
            "Количество проведенных итераций: 28\n",
            "\n",
            "Решение x (метод Якоби):\n",
            "\n",
            "⎡-2.3346335882598⎤\n",
            "⎢                ⎥\n",
            "⎢1.51422497776241⎥\n",
            "⎢                ⎥\n",
            "⎣3.14474270375071⎦\n",
            "\n",
            "Количество итераций: 15\n"
          ]
        }
      ]
    },
    {
      "cell_type": "markdown",
      "source": [
        "## Зависимость числа обусловленности и точности полученного решения в зависимости от параметра k"
      ],
      "metadata": {
        "id": "17-JOI5aZsur"
      }
    },
    {
      "cell_type": "markdown",
      "source": [
        "Для оценки зависимости числа обусловленности и точности полученного решения в зависимости от параметра k, можно изменять параметр k при генерации матрицы A1 и решать систему уравнений для каждого значения k. Затем можно вычислить число обусловленности матрицы A1 и сравнить полученное решение с точным решением."
      ],
      "metadata": {
        "id": "SuTwO98Ffa41"
      }
    },
    {
      "cell_type": "code",
      "source": [
        "def compute_error(x, x_exact):\n",
        "    return np.linalg.norm(x - x_exact)\n",
        "\n",
        "n = 3\n",
        "k_values = [1, 2, 3, 4, 5]\n",
        "\n",
        "for k in k_values:\n",
        "    A1 = generate_matrix(n, k)\n",
        "    F = np.arange(1, n+1)\n",
        "\n",
        "    x_exact = solve_system(A1, F)\n",
        "    x_computed = np.linalg.solve(A1, F)\n",
        "    error = compute_error(x_computed, x_exact)\n",
        "    condition_number = np.linalg.cond(A1)\n",
        "\n",
        "    print(f\"Параметр k: {k}\")\n",
        "    print(\"Матрица A1:\\n\")\n",
        "    pprint(Matrix(A1))\n",
        "    print(\"\\nПравая часть - Вектор F:\\n\")\n",
        "    pprint(Matrix(F))\n",
        "    print(\"\\nТочное решение:\\n\")\n",
        "    pprint(Matrix(x_exact))\n",
        "    print(\"\\nВычисленное решение:\\n\")\n",
        "    pprint(Matrix(x_computed))\n",
        "    print(\"\\nПогрешность:\\n\", error)\n",
        "    print(\"Число обусловленности матрицы A1:\\n\", condition_number)\n",
        "    print(\"-------------------------------------------------------------\")"
      ],
      "metadata": {
        "colab": {
          "base_uri": "https://localhost:8080/"
        },
        "id": "d8YMhCEpZxL0",
        "outputId": "64f89832-448b-4ded-c7a3-85f8a5c6cfa6"
      },
      "execution_count": null,
      "outputs": [
        {
          "output_type": "stream",
          "name": "stdout",
          "text": [
            "Параметр k: 1\n",
            "Матрица A1:\n",
            "\n",
            "⎡ 8.62213757642557   -3.94710459010589  -3.73877677778112⎤\n",
            "⎢                                                        ⎥\n",
            "⎢-0.115012570132747  7.59437428224571   -3.96824814794766⎥\n",
            "⎢                                                        ⎥\n",
            "⎣-3.71279087058466   -2.05604496670508  6.63803896504686 ⎦\n",
            "\n",
            "Правая часть - Вектор F:\n",
            "\n",
            "⎡1⎤\n",
            "⎢ ⎥\n",
            "⎢2⎥\n",
            "⎢ ⎥\n",
            "⎣3⎦\n",
            "\n",
            "Точное решение:\n",
            "\n",
            "⎡1.23044515650314⎤\n",
            "⎢                ⎥\n",
            "⎢1.04723579374282⎥\n",
            "⎢                ⎥\n",
            "⎣1.46452129577544⎦\n",
            "\n",
            "Вычисленное решение:\n",
            "\n",
            "⎡1.23044515650314⎤\n",
            "⎢                ⎥\n",
            "⎢1.04723579374282⎥\n",
            "⎢                ⎥\n",
            "⎣1.46452129577544⎦\n",
            "\n",
            "Погрешность:\n",
            " 0.0\n",
            "Число обусловленности матрицы A1:\n",
            " 6.9583941843207135\n",
            "-------------------------------------------------------------\n",
            "Параметр k: 2\n",
            "Матрица A1:\n",
            "\n",
            "⎡8.61495806105425   -3.74460099804968  -2.24229171708051⎤\n",
            "⎢                                                       ⎥\n",
            "⎢-2.03293593563226  3.86831554487291   -1.0016580642906 ⎥\n",
            "⎢                                                       ⎥\n",
            "⎣-3.80177100839098  -3.6087307948242    8.215963727179  ⎦\n",
            "\n",
            "Правая часть - Вектор F:\n",
            "\n",
            "⎡1⎤\n",
            "⎢ ⎥\n",
            "⎢2⎥\n",
            "⎢ ⎥\n",
            "⎣3⎦\n",
            "\n",
            "Точное решение:\n",
            "\n",
            "⎡1.22955481143954⎤\n",
            "⎢                ⎥\n",
            "⎢1.58538195387288⎥\n",
            "⎢                ⎥\n",
            "⎣1.63044810793701⎦\n",
            "\n",
            "Вычисленное решение:\n",
            "\n",
            "⎡1.22955481143954⎤\n",
            "⎢                ⎥\n",
            "⎢1.58538195387288⎥\n",
            "⎢                ⎥\n",
            "⎣1.63044810793701⎦\n",
            "\n",
            "Погрешность:\n",
            " 0.0\n",
            "Число обусловленности матрицы A1:\n",
            " 9.82375348744488\n",
            "-------------------------------------------------------------\n",
            "Параметр k: 3\n",
            "Матрица A1:\n",
            "\n",
            "⎡6.72261604175845   -2.29996254953217  -2.22227978847431⎤\n",
            "⎢                                                       ⎥\n",
            "⎢-1.90508948112045  4.67488619377608   -1.49005429897581⎥\n",
            "⎢                                                       ⎥\n",
            "⎣-3.26307223124532  -3.29622370527623  7.79069014364955 ⎦\n",
            "\n",
            "Правая часть - Вектор F:\n",
            "\n",
            "⎡1⎤\n",
            "⎢ ⎥\n",
            "⎢2⎥\n",
            "⎢ ⎥\n",
            "⎣3⎦\n",
            "\n",
            "Точное решение:\n",
            "\n",
            "⎡1.04040603218997⎤\n",
            "⎢                ⎥\n",
            "⎢1.28699028073917⎥\n",
            "⎢                ⎥\n",
            "⎣1.36536400608391⎦\n",
            "\n",
            "Вычисленное решение:\n",
            "\n",
            "⎡1.04040603218997⎤\n",
            "⎢                ⎥\n",
            "⎢1.28699028073917⎥\n",
            "⎢                ⎥\n",
            "⎣1.36536400608391⎦\n",
            "\n",
            "Погрешность:\n",
            " 0.0\n",
            "Число обусловленности матрицы A1:\n",
            " 6.733613777998516\n",
            "-------------------------------------------------------------\n",
            "Параметр k: 4\n",
            "Матрица A1:\n",
            "\n",
            "⎡4.99225343177118   -1.54652295158021  -2.47464226446094⎤\n",
            "⎢                                                       ⎥\n",
            "⎢-1.80881861641594  4.68115446672098   -2.05674005286431⎥\n",
            "⎢                                                       ⎥\n",
            "⎣-1.7197986489314   -2.27053287028798  5.77264877773526 ⎦\n",
            "\n",
            "Правая часть - Вектор F:\n",
            "\n",
            "⎡1⎤\n",
            "⎢ ⎥\n",
            "⎢2⎥\n",
            "⎢ ⎥\n",
            "⎣3⎦\n",
            "\n",
            "Точное решение:\n",
            "\n",
            "⎡1.5987015365458 ⎤\n",
            "⎢                ⎥\n",
            "⎢1.79233005570094⎥\n",
            "⎢                ⎥\n",
            "⎣1.70095036551354⎦\n",
            "\n",
            "Вычисленное решение:\n",
            "\n",
            "⎡1.5987015365458 ⎤\n",
            "⎢                ⎥\n",
            "⎢1.79233005570094⎥\n",
            "⎢                ⎥\n",
            "⎣1.70095036551354⎦\n",
            "\n",
            "Погрешность:\n",
            " 0.0\n",
            "Число обусловленности матрицы A1:\n",
            " 6.571156493307074\n",
            "-------------------------------------------------------------\n",
            "Параметр k: 5\n",
            "Матрица A1:\n",
            "\n",
            "⎡ 6.00738886870631   -1.87861585313125  -0.213441438989515⎤\n",
            "⎢                                                         ⎥\n",
            "⎢-0.593196200783615  6.50097873665489   -3.89352609541797 ⎥\n",
            "⎢                                                         ⎥\n",
            "⎣-2.28726866971622   -1.35969488745685   7.19943929637722 ⎦\n",
            "\n",
            "Правая часть - Вектор F:\n",
            "\n",
            "⎡1⎤\n",
            "⎢ ⎥\n",
            "⎢2⎥\n",
            "⎢ ⎥\n",
            "⎣3⎦\n",
            "\n",
            "Точное решение:\n",
            "\n",
            "⎡0.430462246521771⎤\n",
            "⎢                 ⎥\n",
            "⎢0.764918949932003⎥\n",
            "⎢                 ⎥\n",
            "⎣0.697920905873147⎦\n",
            "\n",
            "Вычисленное решение:\n",
            "\n",
            "⎡0.430462246521771⎤\n",
            "⎢                 ⎥\n",
            "⎢0.764918949932003⎥\n",
            "⎢                 ⎥\n",
            "⎣0.697920905873147⎦\n",
            "\n",
            "Погрешность:\n",
            " 0.0\n",
            "Число обусловленности матрицы A1:\n",
            " 3.0756044431710743\n",
            "-------------------------------------------------------------\n"
          ]
        }
      ]
    },
    {
      "cell_type": "markdown",
      "source": [
        "Генерация матрицы Гильберта"
      ],
      "metadata": {
        "id": "7JmxGVgVffzN"
      }
    },
    {
      "cell_type": "code",
      "source": [
        "def generate_hilbert_matrix(n):\n",
        "    A = np.zeros((n, n))\n",
        "    for i in range(1, n + 1):\n",
        "        for j in range(1, n + 1):\n",
        "            A[i-1][j-1] = 1 / (i + j - 1)\n",
        "    return A"
      ],
      "metadata": {
        "id": "7axg6XbYflyV"
      },
      "execution_count": null,
      "outputs": []
    },
    {
      "cell_type": "code",
      "source": [
        "H = generate_hilbert_matrix(n)\n",
        "b = np.random.rand(n)\n",
        "\n",
        "L, U = lu_decomposition(H)\n",
        "x_lu = solve_lu(L, U, b)\n",
        "\n",
        "solution, iteration = zeidel_iteration(H, b)\n",
        "x_jacobi, num_iter_j = Jacobi_method(H, b, x0=np.zeros(n))\n",
        "\n",
        "print(\"Hilbert матрица H:\\n\")\n",
        "pprint(Matrix(H))\n",
        "\n",
        "print(\"\\nВектор b:\\n\")\n",
        "pprint(Matrix(b.T))\n",
        "\n",
        "print('\\nL:\\n')\n",
        "pprint(Matrix(L))\n",
        "\n",
        "print('\\nU:\\n')\n",
        "pprint(Matrix(U))\n",
        "\n",
        "print(\"\\nРешение x с помощью LU-метода:\\n\")\n",
        "pprint(Matrix(x_lu))\n",
        "\n",
        "print(\"\\nРешение СЛАУ методом Зейделя:\\n\")\n",
        "pprint(Matrix(solution))\n",
        "print(\"\\nКоличество проведенных итераций:\", iteration)\n",
        "\n",
        "print(\"\\nРешение x (метод Якоби):\\n\")\n",
        "pprint(Matrix(x_jacobi))\n",
        "print(\"\\nКоличество итераций:\", num_iter_j)"
      ],
      "metadata": {
        "colab": {
          "base_uri": "https://localhost:8080/"
        },
        "id": "shVYk8dqk6F0",
        "outputId": "720a7a9e-9d2e-4168-8513-2a2fed9de80c"
      },
      "execution_count": null,
      "outputs": [
        {
          "output_type": "stream",
          "name": "stdout",
          "text": [
            "Hilbert матрица H:\n",
            "\n",
            "⎡       1.0                0.5         0.333333333333333⎤\n",
            "⎢                                                       ⎥\n",
            "⎢       0.5         0.333333333333333        0.25       ⎥\n",
            "⎢                                                       ⎥\n",
            "⎣0.333333333333333        0.25                0.2       ⎦\n",
            "\n",
            "Вектор b:\n",
            "\n",
            "⎡0.868143284817093⎤\n",
            "⎢                 ⎥\n",
            "⎢0.397575810857148⎥\n",
            "⎢                 ⎥\n",
            "⎣0.549240083159556⎦\n",
            "\n",
            "L:\n",
            "\n",
            "⎡       1.0          0    0 ⎤\n",
            "⎢                           ⎥\n",
            "⎢       0.5         1.0   0 ⎥\n",
            "⎢                           ⎥\n",
            "⎣0.333333333333333  1.0  1.0⎦\n",
            "\n",
            "U:\n",
            "\n",
            "⎡1.0         0.5           0.333333333333333 ⎤\n",
            "⎢                                            ⎥\n",
            "⎢ 0   0.0833333333333333  0.0833333333333333 ⎥\n",
            "⎢                                            ⎥\n",
            "⎣ 0           0           0.00555555555555554⎦\n",
            "\n",
            "Решение x с помощью LU-метода:\n",
            "\n",
            "⎡9.97776286728324 ⎤\n",
            "⎢                 ⎥\n",
            "⎢-53.7818175375633⎥\n",
            "⎢                 ⎥\n",
            "⎣53.3438675589465 ⎦\n",
            "\n",
            "Решение СЛАУ методом Зейделя:\n",
            "\n",
            "⎡9.97776279479987 ⎤\n",
            "⎢                 ⎥\n",
            "⎢-53.7818171676342⎥\n",
            "⎢                 ⎥\n",
            "⎣53.3438672173408 ⎦\n",
            "\n",
            "Количество проведенных итераций: 974\n",
            "\n",
            "Решение x (метод Якоби):\n",
            "\n",
            "⎡1.10863973114688 ⎤\n",
            "⎢                 ⎥\n",
            "⎢-13.8707617089314⎥\n",
            "⎢                 ⎥\n",
            "⎣20.0846516888476 ⎦\n",
            "\n",
            "Количество итераций: 465\n"
          ]
        }
      ]
    },
    {
      "cell_type": "markdown",
      "source": [
        "исследование"
      ],
      "metadata": {
        "id": "FQDnCM4moAsC"
      }
    },
    {
      "cell_type": "code",
      "source": [
        "k_values = [1, 2, 3, 4, 5]\n",
        "\n",
        "for k in k_values:\n",
        "    H = generate_matrix(n, k)\n",
        "    F = np.arange(1, n+1)\n",
        "\n",
        "    x_exact = solve_system(H, F)\n",
        "    x_computed = np.linalg.solve(H, F)\n",
        "    error = compute_error(x_computed, x_exact)\n",
        "    condition_number = np.linalg.cond(H)\n",
        "\n",
        "    print(f\"Параметр k: {k}\")\n",
        "    print(\"Матрица H:\\n\")\n",
        "    pprint(Matrix(H))\n",
        "    print(\"\\nПравая часть - Вектор F:\\n\")\n",
        "    pprint(Matrix(F))\n",
        "    print(\"\\nТочное решение:\\n\")\n",
        "    pprint(Matrix(x_exact))\n",
        "    print(\"\\nВычисленное решение:\\n\")\n",
        "    pprint(Matrix(x_computed))\n",
        "    print(\"\\nПогрешность:\\n\", error)\n",
        "    print(\"Число обусловленности матрицы H:\\n\", condition_number)\n",
        "    print(\"-------------------------------------------------------------\")"
      ],
      "metadata": {
        "colab": {
          "base_uri": "https://localhost:8080/"
        },
        "id": "d2AJTldNn_0r",
        "outputId": "66c4931a-71d4-4d54-9191-b707c1271cbe"
      },
      "execution_count": null,
      "outputs": [
        {
          "output_type": "stream",
          "name": "stdout",
          "text": [
            "Параметр k: 1\n",
            "Матрица H:\n",
            "\n",
            "⎡7.48694177184012   -2.05598559699659  -3.00724749643271 ⎤\n",
            "⎢                                                        ⎥\n",
            "⎢-1.84566216872439  4.27437021413379   -0.834329545533384⎥\n",
            "⎢                                                        ⎥\n",
            "⎣-3.78321774000506  -2.33058980820877   9.82915795340954 ⎦\n",
            "\n",
            "Правая часть - Вектор F:\n",
            "\n",
            "⎡1⎤\n",
            "⎢ ⎥\n",
            "⎢2⎥\n",
            "⎢ ⎥\n",
            "⎣3⎦\n",
            "\n",
            "Точное решение:\n",
            "\n",
            "⎡0.710086927088223⎤\n",
            "⎢                 ⎥\n",
            "⎢0.930509389740915⎥\n",
            "⎢                 ⎥\n",
            "⎣0.799157892966184⎦\n",
            "\n",
            "Вычисленное решение:\n",
            "\n",
            "⎡0.710086927088223⎤\n",
            "⎢                 ⎥\n",
            "⎢0.930509389740915⎥\n",
            "⎢                 ⎥\n",
            "⎣0.799157892966184⎦\n",
            "\n",
            "Погрешность:\n",
            " 0.0\n",
            "Число обусловленности матрицы H:\n",
            " 5.609318778642621\n",
            "-------------------------------------------------------------\n",
            "Параметр k: 2\n",
            "Матрица H:\n",
            "\n",
            "⎡ 8.32593265991934   -3.94084847405347  -3.40395563157292⎤\n",
            "⎢                                                        ⎥\n",
            "⎢-0.680256009443698  4.88338492709394   -3.13232926680663⎥\n",
            "⎢                                                        ⎥\n",
            "⎣-3.97964953893614   -1.75797094030938  7.88351698880277 ⎦\n",
            "\n",
            "Правая часть - Вектор F:\n",
            "\n",
            "⎡1⎤\n",
            "⎢ ⎥\n",
            "⎢2⎥\n",
            "⎢ ⎥\n",
            "⎣3⎦\n",
            "\n",
            "Точное решение:\n",
            "\n",
            "⎡1.44552937953425⎤\n",
            "⎢                ⎥\n",
            "⎢1.54388728122011⎥\n",
            "⎢                ⎥\n",
            "⎣1.4545296624041 ⎦\n",
            "\n",
            "Вычисленное решение:\n",
            "\n",
            "⎡1.44552937953425⎤\n",
            "⎢                ⎥\n",
            "⎢1.54388728122011⎥\n",
            "⎢                ⎥\n",
            "⎣1.4545296624041 ⎦\n",
            "\n",
            "Погрешность:\n",
            " 0.0\n",
            "Число обусловленности матрицы H:\n",
            " 8.7044551310553\n",
            "-------------------------------------------------------------\n",
            "Параметр k: 3\n",
            "Матрица H:\n",
            "\n",
            "⎡ 6.82660169740677   -3.59951669136123  -1.033680204611 ⎤\n",
            "⎢                                                       ⎥\n",
            "⎢-0.353742409423112  2.88895802291665   -2.2216006490523⎥\n",
            "⎢                                                       ⎥\n",
            "⎣-2.72625768428384   -1.15710319601726  7.86119530896077⎦\n",
            "\n",
            "Правая часть - Вектор F:\n",
            "\n",
            "⎡1⎤\n",
            "⎢ ⎥\n",
            "⎢2⎥\n",
            "⎢ ⎥\n",
            "⎣3⎦\n",
            "\n",
            "Точное решение:\n",
            "\n",
            "⎡1.15405895734154⎤\n",
            "⎢                ⎥\n",
            "⎢1.61797982414537⎥\n",
            "⎢                ⎥\n",
            "⎣1.02000159149322⎦\n",
            "\n",
            "Вычисленное решение:\n",
            "\n",
            "⎡1.15405895734154⎤\n",
            "⎢                ⎥\n",
            "⎢1.61797982414537⎥\n",
            "⎢                ⎥\n",
            "⎣1.02000159149322⎦\n",
            "\n",
            "Погрешность:\n",
            " 0.0\n",
            "Число обусловленности матрицы H:\n",
            " 6.720969529559711\n",
            "-------------------------------------------------------------\n",
            "Параметр k: 4\n",
            "Матрица H:\n",
            "\n",
            "⎡ 5.24850117254475   -1.05031708803975  -0.600729331073264⎤\n",
            "⎢                                                         ⎥\n",
            "⎢-0.396557809645425  4.53781094567452   -1.17658086738931 ⎥\n",
            "⎢                                                         ⎥\n",
            "⎣-3.38568077012696   -1.43736262889144   7.79969876657718 ⎦\n",
            "\n",
            "Правая часть - Вектор F:\n",
            "\n",
            "⎡1⎤\n",
            "⎢ ⎥\n",
            "⎢2⎥\n",
            "⎢ ⎥\n",
            "⎣3⎦\n",
            "\n",
            "Точное решение:\n",
            "\n",
            "⎡0.398410858633115⎤\n",
            "⎢                 ⎥\n",
            "⎢0.651245243022761⎥\n",
            "⎢                 ⎥\n",
            "⎣0.677586111388684⎦\n",
            "\n",
            "Вычисленное решение:\n",
            "\n",
            "⎡0.398410858633115⎤\n",
            "⎢                 ⎥\n",
            "⎢0.651245243022761⎥\n",
            "⎢                 ⎥\n",
            "⎣0.677586111388684⎦\n",
            "\n",
            "Погрешность:\n",
            " 0.0\n",
            "Число обусловленности матрицы H:\n",
            " 2.957157817809013\n",
            "-------------------------------------------------------------\n",
            "Параметр k: 5\n",
            "Матрица H:\n",
            "\n",
            "⎡ 3.34142638719559   -0.948860839416852  -1.50930036521289⎤\n",
            "⎢                                                         ⎥\n",
            "⎢-0.570543397652717   5.23649593535826   -2.41298291229744⎥\n",
            "⎢                                                         ⎥\n",
            "⎣-2.88884254914131   -2.33921100506191   5.96406898405926 ⎦\n",
            "\n",
            "Правая часть - Вектор F:\n",
            "\n",
            "⎡1⎤\n",
            "⎢ ⎥\n",
            "⎢2⎥\n",
            "⎢ ⎥\n",
            "⎣3⎦\n",
            "\n",
            "Точное решение:\n",
            "\n",
            "⎡1.46724991825504⎤\n",
            "⎢                ⎥\n",
            "⎢1.34398185948308⎥\n",
            "⎢                ⎥\n",
            "⎣1.74084357141676⎦\n",
            "\n",
            "Вычисленное решение:\n",
            "\n",
            "⎡1.46724991825504⎤\n",
            "⎢                ⎥\n",
            "⎢1.34398185948308⎥\n",
            "⎢                ⎥\n",
            "⎣1.74084357141676⎦\n",
            "\n",
            "Погрешность:\n",
            " 0.0\n",
            "Число обусловленности матрицы H:\n",
            " 7.003509365832594\n",
            "-------------------------------------------------------------\n"
          ]
        }
      ]
    }
  ],
  "metadata": {
    "colab": {
      "provenance": [],
      "include_colab_link": true
    },
    "kernelspec": {
      "display_name": "Python 3",
      "name": "python3"
    },
    "language_info": {
      "name": "python"
    }
  },
  "nbformat": 4,
  "nbformat_minor": 0
}