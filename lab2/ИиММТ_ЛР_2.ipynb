{
  "nbformat": 4,
  "nbformat_minor": 0,
  "metadata": {
    "colab": {
      "provenance": [],
      "include_colab_link": true
    },
    "kernelspec": {
      "name": "python3",
      "display_name": "Python 3"
    },
    "language_info": {
      "name": "python"
    }
  },
  "cells": [
    {
      "cell_type": "markdown",
      "metadata": {
        "id": "view-in-github",
        "colab_type": "text"
      },
      "source": [
        "<a href=\"https://colab.research.google.com/github/tutsilianna/Tools_and_Methods_of_math_tech/blob/main/lab2/%D0%98%D0%B8%D0%9C%D0%9C%D0%A2_%D0%9B%D0%A0_2.ipynb\" target=\"_parent\"><img src=\"https://colab.research.google.com/assets/colab-badge.svg\" alt=\"Open In Colab\"/></a>"
      ]
    },
    {
      "cell_type": "markdown",
      "source": [
        "**Лабораторная работа №2**\n",
        "\n",
        "\n",
        "---\n",
        "\n",
        "\n",
        "**Команда №2:**\n",
        "\n",
        "*Давыдова Кристина Сергеевна*        \n",
        "*Поздышева Татьяна Сергеевна*\n",
        "\n",
        "---\n",
        "\n",
        "\n",
        "\n",
        "**\"Возведение чисел в степень по модулю\"**\n",
        "\n",
        "*Цель лабораторной работы*: используя результаты теории чисел, реализовать возведение числа в степень по модулю. Данные преобразования используются в криптографии, например, в алгоритме RSA.\n",
        "\n",
        "**Постановка задачи:**\n",
        "\n",
        "Найти результат преобразования: $$ c \\equiv a^b \\mod \\; M $$"
      ],
      "metadata": {
        "id": "ZJT9kzSYyd9W"
      }
    },
    {
      "cell_type": "markdown",
      "source": [
        "1. Факторизовать число $M$, по модулю которого производится возведение в степень.\n",
        "2. Найти вектор остатков {$r_i$} по модулям простых чисел {$a_i$} таких, что $M$ = $∏_{i=1}^{k} a_i$\n",
        "\n",
        "3. Используя малую теорему Ферма найти $\\tilde{r}_i \\equiv r^b_i \\; mod \\; a_i$\n",
        "4. Реализовать восстановление числа $c$ по его остаткам $\\{\\tilde{r}_i\\}$ при помощи Китайской теоремы об остатках."
      ],
      "metadata": {
        "id": "Rg_5A5wey2qX"
      }
    },
    {
      "cell_type": "markdown",
      "source": [
        "## Подключение библиотек"
      ],
      "metadata": {
        "id": "uG5T0x3X3vdY"
      }
    },
    {
      "cell_type": "code",
      "execution_count": null,
      "metadata": {
        "id": "tKHVBKgi3ohV"
      },
      "outputs": [],
      "source": [
        "import numpy as np\n",
        "\n",
        "from functools import reduce\n",
        "import math"
      ]
    },
    {
      "cell_type": "code",
      "source": [
        "from sympy import pprint    # для вывода делителей числа и их степени\n",
        "from sympy import factorint # для факторизации числа"
      ],
      "metadata": {
        "id": "oW4TniREGZi9"
      },
      "execution_count": null,
      "outputs": []
    },
    {
      "cell_type": "markdown",
      "source": [
        "## Исходные данные"
      ],
      "metadata": {
        "id": "WJ98d1gHfI9d"
      }
    },
    {
      "cell_type": "code",
      "source": [
        "a = 3\n",
        "b = 4\n",
        "M = 10"
      ],
      "metadata": {
        "id": "FUIdziVYfKBc"
      },
      "execution_count": null,
      "outputs": []
    },
    {
      "cell_type": "code",
      "source": [
        "# другой вариант исходных данных\n",
        "A = 15\n",
        "B = 4\n",
        "m = 77"
      ],
      "metadata": {
        "id": "F3kY87MEGmgn"
      },
      "execution_count": null,
      "outputs": []
    },
    {
      "cell_type": "markdown",
      "source": [
        "## Факторизуем число M, по модулю которого производится возведение в степень"
      ],
      "metadata": {
        "id": "5nauYfiWe8JM"
      }
    },
    {
      "cell_type": "markdown",
      "source": [
        "Для факторизации числа M (в данном случае 10), используется функция `factorize()`. Эта функция находит все простые делители числа M и возвращает их в виде списка."
      ],
      "metadata": {
        "id": "3PXybQ-Jfoy9"
      }
    },
    {
      "cell_type": "code",
      "source": [
        "def factorize(M):\n",
        "    factors = []\n",
        "    i = 2\n",
        "    while i <= M:\n",
        "        if M % i == 0:\n",
        "            factors.append(i)\n",
        "            M //= i\n",
        "        else:\n",
        "            i += 1\n",
        "    return factors"
      ],
      "metadata": {
        "id": "TCfoh7WlaCmu"
      },
      "execution_count": null,
      "outputs": []
    },
    {
      "cell_type": "markdown",
      "source": [
        "Затем переменная `c` получает значение `a` в степени `b` по модулю числа M, то есть $c = a^b \\mod \\; M$ (в данном случае $3^4 \\mod\\;10$)."
      ],
      "metadata": {
        "id": "nlYsYiz5fs-1"
      }
    },
    {
      "cell_type": "markdown",
      "source": [
        "На экран выводятся результат факторизации (список простых делителей) числа $M$ и значение переменной $c$."
      ],
      "metadata": {
        "id": "uepIl9Ztfwed"
      }
    },
    {
      "cell_type": "code",
      "source": [
        "factors_of_M = factorize(M)\n",
        "c = pow(a, b, M)\n",
        "\n",
        "print(f\"{a} в степени {b} по модулю {M} равно {c}\")\n",
        "print(\"Простые множители числа M:\", factors_of_M)\n",
        "print()\n",
        "# для других исходных данных для сравнения результата:\n",
        "factors_of_m = factorize(m)\n",
        "C = pow(A, B, m)\n",
        "\n",
        "print(f\"{A} в степени {B} по модулю {m} равно {C}\")\n",
        "print(\"Простые множители числа M:\", factors_of_m)"
      ],
      "metadata": {
        "colab": {
          "base_uri": "https://localhost:8080/"
        },
        "id": "P4HYDrZtfUqM",
        "outputId": "61be86db-843e-4ebc-9365-041dde0bdb57"
      },
      "execution_count": null,
      "outputs": [
        {
          "output_type": "stream",
          "name": "stdout",
          "text": [
            "3 в степени 4 по модулю 10 равно 1\n",
            "Простые множители числа M: [2, 5]\n",
            "\n",
            "15 в степени 4 по модулю 77 равно 36\n",
            "Простые множители числа M: [7, 11]\n"
          ]
        }
      ]
    },
    {
      "cell_type": "markdown",
      "source": [
        "### **Второй вариант факторизации числа с помощью библиотеки SymPy**"
      ],
      "metadata": {
        "id": "IDidgbsdG4E8"
      }
    },
    {
      "cell_type": "code",
      "source": [
        "factors_M = factorint(M, multiple=True)       # это и есть a_i\n",
        "\n",
        "print(f\"Факторы числа M = {M}: {', '.join(map(str, factors_M))}\")\n",
        "print()\n",
        "pprint(factorint(M, visual=True))\n",
        "\n",
        "print()\n",
        "\n",
        "factors_m = factorint(m, multiple=True)       # это и есть a_i\n",
        "\n",
        "print(f\"Факторы числа M = {m}: {', '.join(map(str, factors_m))}\")\n",
        "print()\n",
        "pprint(factorint(m, visual=True))"
      ],
      "metadata": {
        "colab": {
          "base_uri": "https://localhost:8080/"
        },
        "id": "TL7ehY9FHBG5",
        "outputId": "50df7997-0a81-42c6-fa43-3009926783c4"
      },
      "execution_count": null,
      "outputs": [
        {
          "output_type": "stream",
          "name": "stdout",
          "text": [
            "Факторы числа M = 10: 2, 5\n",
            "\n",
            " 1  1\n",
            "2 ⋅5 \n",
            "\n",
            "Факторы числа M = 77: 7, 11\n",
            "\n",
            "  1  1\n",
            "11 ⋅7 \n"
          ]
        }
      ]
    },
    {
      "cell_type": "markdown",
      "source": [
        "## Вектор остатков по модулям простых чисел"
      ],
      "metadata": {
        "id": "Te_AIn_efarF"
      }
    },
    {
      "cell_type": "markdown",
      "source": [
        "После вычисления значения переменной $c$, вектор остатков $r$ находится с помощью цикла `for`. В каждой итерации цикла значение `r_i` равно $a$ в степени $b$, по модулю текущего простого делителя $a_i$: $r_i = a^b \\mod \\; a_i$, а затем оно добавляется в вектор `r` при помощи метода `append()`."
      ],
      "metadata": {
        "id": "02ohJdvDf_XM"
      }
    },
    {
      "cell_type": "markdown",
      "source": [
        "В результате, выводится на экран вектор остатков `r`."
      ],
      "metadata": {
        "id": "gafGj2tQgPl0"
      }
    },
    {
      "cell_type": "code",
      "source": [
        "r = []\n",
        "for ai in factors_of_M:\n",
        "    r_i = pow(a, b, ai)\n",
        "    r.append(r_i)\n",
        "\n",
        "print(f\"Вектор остатков r: {r} для числа M={M} и чисел a={a}, b={b}\")"
      ],
      "metadata": {
        "colab": {
          "base_uri": "https://localhost:8080/"
        },
        "id": "lF3EM3J_bB_2",
        "outputId": "325e9d3e-7c22-453d-885a-4880a5ed8411"
      },
      "execution_count": null,
      "outputs": [
        {
          "output_type": "stream",
          "name": "stdout",
          "text": [
            "Вектор остатков r: [1, 1] для числа M=10 и чисел a=3, b=4\n"
          ]
        }
      ]
    },
    {
      "cell_type": "code",
      "source": [
        "R = []\n",
        "for ai in factors_of_m:\n",
        "    r_i = pow(A, B, ai)\n",
        "    R.append(r_i)\n",
        "\n",
        "print(f\"Вектор остатков r: {R} для числа M={m} и чисел a={A}, b={B}\")"
      ],
      "metadata": {
        "colab": {
          "base_uri": "https://localhost:8080/"
        },
        "id": "ZtZswvCBH-J2",
        "outputId": "e17036ad-5530-4afd-8be9-1e70cd40164a"
      },
      "execution_count": null,
      "outputs": [
        {
          "output_type": "stream",
          "name": "stdout",
          "text": [
            "Вектор остатков r: [1, 3] для числа M=77 и чисел a=15, b=4\n"
          ]
        }
      ]
    },
    {
      "cell_type": "markdown",
      "source": [
        "## Использование малой теоремы Ферма"
      ],
      "metadata": {
        "id": "UHm4r-11g0E9"
      }
    },
    {
      "cell_type": "markdown",
      "source": [
        "Мы можем использовать малую теорему Ферма для нахождения остатков числа $M$ по модулям простых чисел.\n",
        "\n",
        "**Малая теорема Ферма**:\n",
        "если $p$ - простое число и $a$ - целое число, которое не делится на $p$, то $a^{p-1} ≡ 1$, где $≡$ обозначает сравнение по модулю $p$. Другими словами, $a^{m-1}-1$ делится на $p$.\n",
        "\n",
        "Используя данную теорему, мы можем найти остаток числа $M$ по модулю простого числа $p$, вычислив $M^{p-1} \\mod p$."
      ],
      "metadata": {
        "id": "JLtMvl4Dj0wU"
      }
    },
    {
      "cell_type": "markdown",
      "source": [
        "Новая функция `apply_fermat_theorem()`, которая использует малую теорему Ферма для вычисления остатка `r_i1`. В этой функции `pow(a, b % (ai - 1), ai)` вычисляет значение $a^{b \\mod (a_i - 1)}$, по модулю $a_i$."
      ],
      "metadata": {
        "id": "tn3VrlddhBJc"
      }
    },
    {
      "cell_type": "markdown",
      "source": [
        "Затем, в цикле `for` для каждого простого делителя `ai` числа `M`, вычисляется остаток `r_i1` с помощью функции `apply_fermat_theorem()`, и добавляется в вектор `r_1`."
      ],
      "metadata": {
        "id": "--8P95TVhUhk"
      }
    },
    {
      "cell_type": "markdown",
      "source": [
        "Таким образом, в результате программы на экран будет выведен вектор остатков `r`, вычисленных с использованием малой теоремы Ферма."
      ],
      "metadata": {
        "id": "WdkU4__qhbVD"
      }
    },
    {
      "cell_type": "code",
      "source": [
        "def apply_fermat_theorem(a, b, ai):\n",
        "    return pow(a, b % (ai - 1), ai)\n",
        "\n",
        "r_1 = []\n",
        "for ai in factors_of_M:\n",
        "    r_i1 = apply_fermat_theorem(a, b, ai)\n",
        "    r_1.append(r_i1)\n",
        "\n",
        "print(f\"r по малой теореме Ферма для числа M={M} и чисел a={a}, b={b}: {', '.join(map(str, r_1))}\")"
      ],
      "metadata": {
        "colab": {
          "base_uri": "https://localhost:8080/"
        },
        "id": "TyrIFPKZbTNN",
        "outputId": "81a0b158-ba73-46ca-eff2-2078de87fe97"
      },
      "execution_count": null,
      "outputs": [
        {
          "output_type": "stream",
          "name": "stdout",
          "text": [
            "r по малой теореме Ферма для числа M=10 и чисел a=3, b=4: 1, 1\n"
          ]
        }
      ]
    },
    {
      "cell_type": "code",
      "source": [
        "R_1 = []\n",
        "for ai in factors_of_m:\n",
        "    R_1.append(apply_fermat_theorem(A, B, ai))\n",
        "\n",
        "print(f\"r по теореме Ферма для числа M={m} и чисел a={A}, b={B}: {', '.join(map(str, R_1))}\")"
      ],
      "metadata": {
        "colab": {
          "base_uri": "https://localhost:8080/"
        },
        "id": "BVIQ221xNTYu",
        "outputId": "249049d9-eb84-42e1-f50a-7489834ad80f"
      },
      "execution_count": null,
      "outputs": [
        {
          "output_type": "stream",
          "name": "stdout",
          "text": [
            "r по теореме Ферма для числа M=77 и чисел a=15, b=4: 1, 3\n"
          ]
        }
      ]
    },
    {
      "cell_type": "markdown",
      "source": [
        "### Используя малую теорему Ферма, найдем $\\tilde{r}_i \\equiv r^b_i \\; mod \\; a_i$"
      ],
      "metadata": {
        "id": "XAklcRdZ5JU6"
      }
    },
    {
      "cell_type": "code",
      "source": [
        "r_1_ = []\n",
        "for i in range(len(factors_of_M)):\n",
        "    r_1_.append(pow(r_1[i], b, factors_of_M[i]))\n",
        "r_1_"
      ],
      "metadata": {
        "colab": {
          "base_uri": "https://localhost:8080/"
        },
        "id": "CMSefeLPAy3k",
        "outputId": "e41202eb-9ab7-425b-b8a7-60d60b8d1109"
      },
      "execution_count": null,
      "outputs": [
        {
          "output_type": "execute_result",
          "data": {
            "text/plain": [
              "[1, 1]"
            ]
          },
          "metadata": {},
          "execution_count": 34
        }
      ]
    },
    {
      "cell_type": "code",
      "source": [
        "R_1_ = []\n",
        "for i in range(len(factors_of_m)):\n",
        "    R_1_.append(pow(R_1[i], B, factors_of_m[i]))\n",
        "R_1_"
      ],
      "metadata": {
        "colab": {
          "base_uri": "https://localhost:8080/"
        },
        "id": "b1K7WBIOARWG",
        "outputId": "5d671270-a669-4c32-c13a-d916fe90c4f4"
      },
      "execution_count": null,
      "outputs": [
        {
          "output_type": "execute_result",
          "data": {
            "text/plain": [
              "[1, 4]"
            ]
          },
          "metadata": {},
          "execution_count": 38
        }
      ]
    },
    {
      "cell_type": "markdown",
      "source": [
        "##Восстановление числа $c$ по его остаткам при помощи Китайской теоремы об остатках"
      ],
      "metadata": {
        "id": "JUFochuOhhHN"
      }
    },
    {
      "cell_type": "markdown",
      "source": [
        "Мы можем реализовать восстановление числа $M$ по его остаткам с использованием Китайской теоремы об остатках.\n",
        "\n",
        "**Китайская теорема об остатках** утверждает следующее:\n",
        "\n",
        "Для любых целых чисел $a_1, a_2, ..., a_n$ и положительных целых чисел $m_1, m_2, ..., m_n$, если все числа $m_i$ попарно взаимно просты, то существует целое число $x$, которое удовлетворяет системе сравнений:\n",
        "\n",
        "$x ≡ a_1 (\\mod \\; m_1)$\n",
        "\n",
        "$x ≡ a_2 (\\mod \\; m_2)$\n",
        "\n",
        "...\n",
        "\n",
        "$x ≡ a_n (\\mod \\; m_n)$"
      ],
      "metadata": {
        "id": "ixuFncRWkb4W"
      }
    },
    {
      "cell_type": "markdown",
      "source": [
        "Добавляются две новые функции: `chinese_remainder_theorem()` и `mul_inv()`."
      ],
      "metadata": {
        "id": "-HGPXz9Jh1DL"
      }
    },
    {
      "cell_type": "markdown",
      "source": [
        "Функция `chinese_remainder_theorem(n, a)` реализует Китайскую теорему об остатках. Она принимает два массива `ai` и `ri`, где `ai` - это список простых делителей числа `M`, а `ri` - это список остатков `r_i`. Функция вычисляет восстановленное значение числа `c` на основе остатков и возвращает его."
      ],
      "metadata": {
        "id": "UPMYWYv3h5fk"
      }
    },
    {
      "cell_type": "markdown",
      "source": [
        "Функция `mul_inv(a, b)` реализует нахождение мультипликативного обратного числа `a` по модулю `b` при помощи алгоритма расширенного алгоритма Евклида."
      ],
      "metadata": {
        "id": "e1G0FkLPiF5j"
      }
    },
    {
      "cell_type": "code",
      "source": [
        "def mul_inv(a, b):\n",
        "    b0 = b\n",
        "    x0, x1 = 0, 1\n",
        "    if b == 1:\n",
        "        return 1\n",
        "    while a > 1:\n",
        "        q = a // b\n",
        "        a, b = b, a % b\n",
        "        x0, x1 = x1 - q * x0, x0\n",
        "    if x1 < 0:\n",
        "        x1 += b0\n",
        "    return x1\n",
        "\n",
        "def chinese_remainder_theorem(ai, ri): # M = П a_i, r = {r_i}\n",
        "    sum_ = 0\n",
        "    prod = reduce(lambda x, y: x * y, ai) # произведение a_i = M\n",
        "    for a_i, r_i in zip(ai, ri):\n",
        "        p = prod // a_i\n",
        "        sum_ += r_i * mul_inv(p, a_i) * p\n",
        "    return sum_ % prod\n",
        "\n",
        "# print(chinese_remainder_theorem([3,5,7], [2,3,2]))"
      ],
      "metadata": {
        "colab": {
          "base_uri": "https://localhost:8080/"
        },
        "id": "DC47pb6YONSB",
        "outputId": "dffa8dcf-4ac7-4677-cb0b-60e4384ae2e8"
      },
      "execution_count": null,
      "outputs": [
        {
          "output_type": "stream",
          "name": "stdout",
          "text": [
            "23\n"
          ]
        }
      ]
    },
    {
      "cell_type": "markdown",
      "source": [
        "В результате, на экран будет выведено восстановленное значение числа `c` при помощи Китайской теоремы об остатках."
      ],
      "metadata": {
        "id": "aJpjuVLyiLlk"
      }
    },
    {
      "cell_type": "code",
      "source": [
        "restored_c = chinese_remainder_theorem(factors_of_M, r)\n",
        "\n",
        "print(f\"Восстановленное число c для числа M={M} и чисел a={a}, b={b}: {restored_c}\")"
      ],
      "metadata": {
        "colab": {
          "base_uri": "https://localhost:8080/"
        },
        "id": "CiLaPjNLec2f",
        "outputId": "bd40e88b-fc03-4895-b63c-a26b6192333f"
      },
      "execution_count": null,
      "outputs": [
        {
          "output_type": "stream",
          "name": "stdout",
          "text": [
            "Восстановленное число c для числа M=10 и чисел a=3, b=4: 1\n"
          ]
        }
      ]
    },
    {
      "cell_type": "code",
      "source": [
        "restored_C = chinese_remainder_theorem(factors_of_m, R)\n",
        "\n",
        "print(f\"Восстановленное число c для числа M={m} и чисел a={A}, b={B}: {restored_C}\")"
      ],
      "metadata": {
        "colab": {
          "base_uri": "https://localhost:8080/"
        },
        "id": "iwmB743bOdb6",
        "outputId": "cba6de4c-7a39-4b77-eaa3-7adcf64e4fff"
      },
      "execution_count": null,
      "outputs": [
        {
          "output_type": "stream",
          "name": "stdout",
          "text": [
            "Восстановленное число c для числа M=77 и чисел a=15, b=4: 36\n"
          ]
        }
      ]
    }
  ]
}