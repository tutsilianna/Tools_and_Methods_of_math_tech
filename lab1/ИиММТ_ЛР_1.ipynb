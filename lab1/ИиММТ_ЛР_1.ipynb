{
  "nbformat": 4,
  "nbformat_minor": 0,
  "metadata": {
    "colab": {
      "provenance": [],
      "include_colab_link": true
    },
    "kernelspec": {
      "name": "python3",
      "display_name": "Python 3"
    },
    "language_info": {
      "name": "python"
    }
  },
  "cells": [
    {
      "cell_type": "markdown",
      "metadata": {
        "id": "view-in-github",
        "colab_type": "text"
      },
      "source": [
        "<a href=\"https://colab.research.google.com/github/tutsilianna/Tools_and_Methods_of_math_tech/blob/main/lab1/%D0%98%D0%B8%D0%9C%D0%9C%D0%A2_%D0%9B%D0%A0_1.ipynb\" target=\"_parent\"><img src=\"https://colab.research.google.com/assets/colab-badge.svg\" alt=\"Open In Colab\"/></a>"
      ]
    },
    {
      "cell_type": "markdown",
      "source": [
        "**Лабораторная работа №1**\n",
        "\n",
        "\n",
        "---\n",
        "\n",
        "\n",
        "**Команда №2:**\n",
        "\n",
        "*Давыдова Кристина Сергеевна*        \n",
        "*Поздышева Татьяна Сергеевна*\n",
        "\n",
        "---\n",
        "\n",
        "\n",
        "\n",
        "**\"Диэральная группа\"**\n",
        "\n",
        "*Цель лабораторной работы*: познакомиться с библиотекой символьных вычислений SymPy и решить с ее помощью некоторые задачи из теории групп на примере группы диэдра.\n",
        "\n",
        "**вариант 2:**\n",
        "\n",
        "$D_7, D_{10}$"
      ],
      "metadata": {
        "id": "kZ1iRpkpoJsM"
      }
    },
    {
      "cell_type": "markdown",
      "source": [
        "1. Для группы диэдра $D_n$ из вашего варианта создать объекты $R_i$ и $S_i$\n",
        "типа Symbol библиотеки SymPy.\n",
        "2. Реализовать функцию, которая выполняет композицию преобразований элементов из группы диэдра по правилу:\n",
        "\n",
        "    $R_iR_j = R_{(i+j)\\mod{n}}$\n",
        "\n",
        "    $S_iR_j = S_{(i−j) \\mod n}$\n",
        "    \n",
        "    $R_iS_j = S_{(i+j) \\mod n}$\n",
        "\n",
        "    $S_iS_j = R_{(i−j) \\mod n}$\n",
        "3. Построить таблицу Кэли для данной группы.\n",
        "4. Для каждого элемента найти обратный к нему.\n",
        "5. Найти порядок каждого элемента группы.\n",
        "6. Найти все подгруппы и построить для них таблицы Кэли."
      ],
      "metadata": {
        "id": "MZsNhD3BvMOP"
      }
    },
    {
      "cell_type": "markdown",
      "source": [
        "***Немного теории:***\n",
        "\n",
        "* Группа — множество, на котором определена ассоциативная (расставление скобок, то есть: $(x * y) * z = x * (y * z)$ $\\;∀  (x,y,z$) бинарная операция, причём для этой операции имеется нейтральный элемент (аналог единицы для умножения или нуля для сложения), и каждый элемент множества имеет обратный.\n",
        "\n",
        "* Диэдральную группу $D_n$ образует $n$ поворотов ($R$) и $n$ осевых отражений или симметрий ($S$).\n",
        "\n",
        "* $R_0$ обозначает тождественное преобразование. То есть нейтральный элемент.\n",
        "\n",
        "* Композиция (операция в диэдральной группе) не коммутативна, то есть диэдральные группы для $n>2$ будут не абелевы.\n",
        "\n",
        "* Подгруппа - непустое подмножество элементов группы, замкнутое относительно групповой операции и операции взятия обратного элемента.\n",
        "---\n",
        "\n",
        "Для поиска *обратного элемента* для элемента к $R_i$, нужно найти такой элемент $R_j$, которые при умножении будут давать нейтральный элемент $R_0$, то есть\n",
        "\n",
        "$R_i \\cdot R_j = R_0$\n",
        "\n",
        "$R_{(i+j)\\mod{n}} = R_0  ⇒ $\n",
        "\n",
        "$(i+j)\\mod{n} = 0 ⇒$\n",
        "\n",
        "$i+j = n ⇒$\n",
        "\n",
        "$j = n-i$\n",
        "\n",
        "но т.к. $S_iS_j = R_{(i−j) \\mod n}$, то для поиска обратного элемента к элементу $S_i$, нужно найти такой элемент $S_j$, которые при умножении будут давать нейтральный элемент, то есть\n",
        "\n",
        "$S_i \\cdot S_j = R_0$\n",
        "\n",
        "$R_{(i-j)\\mod{n}} = R_0  ⇒ $\n",
        "\n",
        "$(i-j)\\mod{n} = 0 ⇒$\n",
        "\n",
        "$i-j = n ⇒$\n",
        "\n",
        "$j = i - n$\n",
        "\n",
        "---\n",
        "Порядок каждого элемента группы  есть такое число $m$, при котором выполняется равенство $g^m = e, \\; g -$ элемент группы, $e -$ нейтральный элемент = $R_0$\n",
        "\n",
        "[Теорема Коши](https://wiki5.ru/wiki/Cauchy%27s_theorem_(group_theory)) - Пусть G - конечная группа , а p - простое число . Если p делит порядок группы G, то G имеет элемент порядка.\n",
        "---\n",
        "Согласно следствию из теоремы Лагранжа порядок любой подгруппы делит порядок группы. Тогда мы можем найти порядки подгрупп диэдральной группы. Так же любая подгруппа содержит хотя бы нейтральный элемент $R_0$. Тривиальными подгруппами можно считать подгруппу из нейтрального элемента и всю группу.\n",
        "\n",
        "Так как подгруппа должна содержать нейтральный элемент и должна быть замкнута относительно групповой операции, то одной из подгрупп будет подгруппа, содержащая все повороты (композиция двух поворот есть поворот, а все, потому что иначе подгруппа не замкнута относительно операции).\n",
        "\n",
        "Пусть есть n+1 элемент, где один из элементов $R_0$, тогда количество комбинаций, содержащих $R_0$, будет = $2^n$ - максимально возможное количество подгрупп. Надо проверить, какие из них удовлетворяют определению подгруппы."
      ],
      "metadata": {
        "id": "XelulTxbnzhF"
      }
    },
    {
      "cell_type": "markdown",
      "source": [
        "# $D_7$"
      ],
      "metadata": {
        "id": "QrMyc1sdwMlF"
      }
    },
    {
      "cell_type": "markdown",
      "source": [
        "## Подключение библиотеки"
      ],
      "metadata": {
        "id": "QE2zySWFx0zR"
      }
    },
    {
      "cell_type": "code",
      "execution_count": null,
      "metadata": {
        "id": "JtzYJxeLufe0"
      },
      "outputs": [],
      "source": [
        "from sympy import *"
      ]
    },
    {
      "cell_type": "markdown",
      "source": [
        "## Создание объектов $R_i$ и $S_i$"
      ],
      "metadata": {
        "id": "J5520VkUxw_h"
      }
    },
    {
      "cell_type": "code",
      "source": [
        "n = 7\n",
        "R = IndexedBase('R')\n",
        "S = IndexedBase('S')\n",
        "indx, jndx = symbols('i j')\n",
        "indx = [i for i in range(n)]\n",
        "jndx = [i for i in range(n)]"
      ],
      "metadata": {
        "id": "8qDAbJtn0NZL"
      },
      "execution_count": null,
      "outputs": []
    },
    {
      "cell_type": "markdown",
      "source": [
        "## Функция, которая выполняет композицию преобразований элементов из группы диэдра по правилу"
      ],
      "metadata": {
        "id": "gVibXtcnAjX_"
      }
    },
    {
      "cell_type": "code",
      "source": [
        "def composition_Dn(p1, p2, n):\n",
        "    p1_type = p1.args[0].args[0] # получаем тип символа: S или R\n",
        "    p2_type = p2.args[0].args[0] # (например) = 'S'\n",
        "\n",
        "    # simplify - преобразование для сложения индексов\n",
        "    i = simplify(srepr(p1.args[1])) # индекс первого символа\n",
        "    j = simplify(srepr(p2.args[1])) # индекс второго символа\n",
        "\n",
        "    if p1_type == p2_type and p1_type == symbols('R'):         # 1 случай\n",
        "        index = (i + j) % n\n",
        "        return R[index]\n",
        "    elif p1_type == symbols('S') and p2_type == symbols('R'):  # 2 случай\n",
        "        index = (i - j) % n\n",
        "        return S[index]\n",
        "    elif p1_type == symbols('R') and p2_type == symbols('S'):  # 3 случай\n",
        "        index = (i + j) % n\n",
        "        return S[index]\n",
        "    elif p1_type == p2_type and p1_type == symbols('S'):       # 4 случай\n",
        "        index = (i - j) % n\n",
        "        return R[index]\n",
        "\n",
        "composition_Dn(R[6], R[3], n)"
      ],
      "metadata": {
        "id": "15YN67zc6iSN",
        "colab": {
          "base_uri": "https://localhost:8080/",
          "height": 38
        },
        "outputId": "d762870a-a207-4d16-9005-72f66e1cfda3"
      },
      "execution_count": null,
      "outputs": [
        {
          "output_type": "execute_result",
          "data": {
            "text/plain": [
              "R[2]"
            ],
            "text/latex": "$\\displaystyle {R}_{2}$"
          },
          "metadata": {},
          "execution_count": 36
        }
      ]
    },
    {
      "cell_type": "markdown",
      "source": [
        "## Построим таблицу Кэли для данной группы"
      ],
      "metadata": {
        "id": "LLQd-XjyJUXf"
      }
    },
    {
      "cell_type": "code",
      "source": [
        "def table(n):\n",
        "    row = [R[i] for i in range(n)] + [S[i] for i in range(n)]\n",
        "    m = [[composition_Dn(row[i], row[j], n) for j in range(2*n)] for i in range(2*n)]\n",
        "    return Matrix(m)"
      ],
      "metadata": {
        "id": "QqmS5qDxrtEB"
      },
      "execution_count": null,
      "outputs": []
    },
    {
      "cell_type": "code",
      "source": [
        "table(n)"
      ],
      "metadata": {
        "colab": {
          "base_uri": "https://localhost:8080/",
          "height": 302
        },
        "id": "TzcKru8OJXJG",
        "outputId": "13b6a9e9-3c77-44f7-99d5-a61588a4a5e2"
      },
      "execution_count": null,
      "outputs": [
        {
          "output_type": "execute_result",
          "data": {
            "text/plain": [
              "Matrix([\n",
              "[R[0], R[1], R[2], R[3], R[4], R[5], R[6], S[0], S[1], S[2], S[3], S[4], S[5], S[6]],\n",
              "[R[1], R[2], R[3], R[4], R[5], R[6], R[0], S[1], S[2], S[3], S[4], S[5], S[6], S[0]],\n",
              "[R[2], R[3], R[4], R[5], R[6], R[0], R[1], S[2], S[3], S[4], S[5], S[6], S[0], S[1]],\n",
              "[R[3], R[4], R[5], R[6], R[0], R[1], R[2], S[3], S[4], S[5], S[6], S[0], S[1], S[2]],\n",
              "[R[4], R[5], R[6], R[0], R[1], R[2], R[3], S[4], S[5], S[6], S[0], S[1], S[2], S[3]],\n",
              "[R[5], R[6], R[0], R[1], R[2], R[3], R[4], S[5], S[6], S[0], S[1], S[2], S[3], S[4]],\n",
              "[R[6], R[0], R[1], R[2], R[3], R[4], R[5], S[6], S[0], S[1], S[2], S[3], S[4], S[5]],\n",
              "[S[0], S[6], S[5], S[4], S[3], S[2], S[1], R[0], R[6], R[5], R[4], R[3], R[2], R[1]],\n",
              "[S[1], S[0], S[6], S[5], S[4], S[3], S[2], R[1], R[0], R[6], R[5], R[4], R[3], R[2]],\n",
              "[S[2], S[1], S[0], S[6], S[5], S[4], S[3], R[2], R[1], R[0], R[6], R[5], R[4], R[3]],\n",
              "[S[3], S[2], S[1], S[0], S[6], S[5], S[4], R[3], R[2], R[1], R[0], R[6], R[5], R[4]],\n",
              "[S[4], S[3], S[2], S[1], S[0], S[6], S[5], R[4], R[3], R[2], R[1], R[0], R[6], R[5]],\n",
              "[S[5], S[4], S[3], S[2], S[1], S[0], S[6], R[5], R[4], R[3], R[2], R[1], R[0], R[6]],\n",
              "[S[6], S[5], S[4], S[3], S[2], S[1], S[0], R[6], R[5], R[4], R[3], R[2], R[1], R[0]]])"
            ],
            "text/latex": "$\\displaystyle \\left[\\begin{array}{cccccccccccccc}{R}_{0} & {R}_{1} & {R}_{2} & {R}_{3} & {R}_{4} & {R}_{5} & {R}_{6} & {S}_{0} & {S}_{1} & {S}_{2} & {S}_{3} & {S}_{4} & {S}_{5} & {S}_{6}\\\\{R}_{1} & {R}_{2} & {R}_{3} & {R}_{4} & {R}_{5} & {R}_{6} & {R}_{0} & {S}_{1} & {S}_{2} & {S}_{3} & {S}_{4} & {S}_{5} & {S}_{6} & {S}_{0}\\\\{R}_{2} & {R}_{3} & {R}_{4} & {R}_{5} & {R}_{6} & {R}_{0} & {R}_{1} & {S}_{2} & {S}_{3} & {S}_{4} & {S}_{5} & {S}_{6} & {S}_{0} & {S}_{1}\\\\{R}_{3} & {R}_{4} & {R}_{5} & {R}_{6} & {R}_{0} & {R}_{1} & {R}_{2} & {S}_{3} & {S}_{4} & {S}_{5} & {S}_{6} & {S}_{0} & {S}_{1} & {S}_{2}\\\\{R}_{4} & {R}_{5} & {R}_{6} & {R}_{0} & {R}_{1} & {R}_{2} & {R}_{3} & {S}_{4} & {S}_{5} & {S}_{6} & {S}_{0} & {S}_{1} & {S}_{2} & {S}_{3}\\\\{R}_{5} & {R}_{6} & {R}_{0} & {R}_{1} & {R}_{2} & {R}_{3} & {R}_{4} & {S}_{5} & {S}_{6} & {S}_{0} & {S}_{1} & {S}_{2} & {S}_{3} & {S}_{4}\\\\{R}_{6} & {R}_{0} & {R}_{1} & {R}_{2} & {R}_{3} & {R}_{4} & {R}_{5} & {S}_{6} & {S}_{0} & {S}_{1} & {S}_{2} & {S}_{3} & {S}_{4} & {S}_{5}\\\\{S}_{0} & {S}_{6} & {S}_{5} & {S}_{4} & {S}_{3} & {S}_{2} & {S}_{1} & {R}_{0} & {R}_{6} & {R}_{5} & {R}_{4} & {R}_{3} & {R}_{2} & {R}_{1}\\\\{S}_{1} & {S}_{0} & {S}_{6} & {S}_{5} & {S}_{4} & {S}_{3} & {S}_{2} & {R}_{1} & {R}_{0} & {R}_{6} & {R}_{5} & {R}_{4} & {R}_{3} & {R}_{2}\\\\{S}_{2} & {S}_{1} & {S}_{0} & {S}_{6} & {S}_{5} & {S}_{4} & {S}_{3} & {R}_{2} & {R}_{1} & {R}_{0} & {R}_{6} & {R}_{5} & {R}_{4} & {R}_{3}\\\\{S}_{3} & {S}_{2} & {S}_{1} & {S}_{0} & {S}_{6} & {S}_{5} & {S}_{4} & {R}_{3} & {R}_{2} & {R}_{1} & {R}_{0} & {R}_{6} & {R}_{5} & {R}_{4}\\\\{S}_{4} & {S}_{3} & {S}_{2} & {S}_{1} & {S}_{0} & {S}_{6} & {S}_{5} & {R}_{4} & {R}_{3} & {R}_{2} & {R}_{1} & {R}_{0} & {R}_{6} & {R}_{5}\\\\{S}_{5} & {S}_{4} & {S}_{3} & {S}_{2} & {S}_{1} & {S}_{0} & {S}_{6} & {R}_{5} & {R}_{4} & {R}_{3} & {R}_{2} & {R}_{1} & {R}_{0} & {R}_{6}\\\\{S}_{6} & {S}_{5} & {S}_{4} & {S}_{3} & {S}_{2} & {S}_{1} & {S}_{0} & {R}_{6} & {R}_{5} & {R}_{4} & {R}_{3} & {R}_{2} & {R}_{1} & {R}_{0}\\end{array}\\right]$"
          },
          "metadata": {},
          "execution_count": 38
        }
      ]
    },
    {
      "cell_type": "markdown",
      "source": [
        "## Поиск обратного элемента"
      ],
      "metadata": {
        "id": "tTKv3ca5MCL0"
      }
    },
    {
      "cell_type": "code",
      "source": [
        "def reverse_element(el, n):\n",
        "    el_type = el.args[0].args[0] # получаем тип символа: S или R\n",
        "\n",
        "    # simplify - преобразование для сложения индексов\n",
        "    i = simplify(srepr(el.args[1])) # индекс символа\n",
        "    if el_type == symbols('R'):\n",
        "        j =  (n - i) % n\n",
        "        return R[j]\n",
        "    elif el_type == symbols('S'):\n",
        "        j =  (i - n) % n\n",
        "        return S[j]"
      ],
      "metadata": {
        "id": "tX6MHicpL-0l"
      },
      "execution_count": null,
      "outputs": []
    },
    {
      "cell_type": "code",
      "source": [
        "print('Элемент и обратный к нему:\\n')\n",
        "\n",
        "Matrix([[R[i], reverse_element(R[i], n)] for i in range(n)])"
      ],
      "metadata": {
        "colab": {
          "base_uri": "https://localhost:8080/",
          "height": 196
        },
        "id": "MP5aM5WUo6PE",
        "outputId": "2545d48d-64c7-4037-87a0-4025ba466b37"
      },
      "execution_count": null,
      "outputs": [
        {
          "output_type": "stream",
          "name": "stdout",
          "text": [
            "Элемент и обратный к нему:\n",
            "\n"
          ]
        },
        {
          "output_type": "execute_result",
          "data": {
            "text/plain": [
              "Matrix([\n",
              "[R[0], R[0]],\n",
              "[R[1], R[6]],\n",
              "[R[2], R[5]],\n",
              "[R[3], R[4]],\n",
              "[R[4], R[3]],\n",
              "[R[5], R[2]],\n",
              "[R[6], R[1]]])"
            ],
            "text/latex": "$\\displaystyle \\left[\\begin{matrix}{R}_{0} & {R}_{0}\\\\{R}_{1} & {R}_{6}\\\\{R}_{2} & {R}_{5}\\\\{R}_{3} & {R}_{4}\\\\{R}_{4} & {R}_{3}\\\\{R}_{5} & {R}_{2}\\\\{R}_{6} & {R}_{1}\\end{matrix}\\right]$"
          },
          "metadata": {},
          "execution_count": 40
        }
      ]
    },
    {
      "cell_type": "code",
      "source": [
        "print('Элемент и обратный к нему:\\n')\n",
        "\n",
        "Matrix([[S[i], reverse_element(S[i], n)] for i in range(n)])"
      ],
      "metadata": {
        "colab": {
          "base_uri": "https://localhost:8080/",
          "height": 196
        },
        "id": "LurP490Uo4DA",
        "outputId": "0d4d4106-d33e-4957-a12e-c5d0cda315c5"
      },
      "execution_count": null,
      "outputs": [
        {
          "output_type": "stream",
          "name": "stdout",
          "text": [
            "Элемент и обратный к нему:\n",
            "\n"
          ]
        },
        {
          "output_type": "execute_result",
          "data": {
            "text/plain": [
              "Matrix([\n",
              "[S[0], S[0]],\n",
              "[S[1], S[1]],\n",
              "[S[2], S[2]],\n",
              "[S[3], S[3]],\n",
              "[S[4], S[4]],\n",
              "[S[5], S[5]],\n",
              "[S[6], S[6]]])"
            ],
            "text/latex": "$\\displaystyle \\left[\\begin{matrix}{S}_{0} & {S}_{0}\\\\{S}_{1} & {S}_{1}\\\\{S}_{2} & {S}_{2}\\\\{S}_{3} & {S}_{3}\\\\{S}_{4} & {S}_{4}\\\\{S}_{5} & {S}_{5}\\\\{S}_{6} & {S}_{6}\\end{matrix}\\right]$"
          },
          "metadata": {},
          "execution_count": 41
        }
      ]
    },
    {
      "cell_type": "markdown",
      "source": [
        "## Порядок элементов"
      ],
      "metadata": {
        "id": "Ch-KgjnWxZVx"
      }
    },
    {
      "cell_type": "code",
      "source": [
        "def order(el, n):\n",
        "    el_0 = el\n",
        "    m = 1\n",
        "    while el != R[0]:\n",
        "        el = composition_Dn(el, el_0, n)\n",
        "        m += 1\n",
        "    return m"
      ],
      "metadata": {
        "id": "OOZEMbSBqPRf"
      },
      "execution_count": null,
      "outputs": []
    },
    {
      "cell_type": "code",
      "source": [
        "print('Элемент и его порядок:\\n')\n",
        "\n",
        "Matrix([[R[i], order(R[i], n)] for i in range(n)])"
      ],
      "metadata": {
        "colab": {
          "base_uri": "https://localhost:8080/",
          "height": 196
        },
        "id": "WuYflQMrv7tM",
        "outputId": "c918886e-6527-4ae4-de9a-05da72ee5b6b"
      },
      "execution_count": null,
      "outputs": [
        {
          "output_type": "stream",
          "name": "stdout",
          "text": [
            "Элемент и его порядок:\n",
            "\n"
          ]
        },
        {
          "output_type": "execute_result",
          "data": {
            "text/plain": [
              "Matrix([\n",
              "[R[0], 1],\n",
              "[R[1], 7],\n",
              "[R[2], 7],\n",
              "[R[3], 7],\n",
              "[R[4], 7],\n",
              "[R[5], 7],\n",
              "[R[6], 7]])"
            ],
            "text/latex": "$\\displaystyle \\left[\\begin{matrix}{R}_{0} & 1\\\\{R}_{1} & 7\\\\{R}_{2} & 7\\\\{R}_{3} & 7\\\\{R}_{4} & 7\\\\{R}_{5} & 7\\\\{R}_{6} & 7\\end{matrix}\\right]$"
          },
          "metadata": {},
          "execution_count": 43
        }
      ]
    },
    {
      "cell_type": "code",
      "source": [
        "print('Элемент и его порядок:\\n')\n",
        "\n",
        "Matrix([[S[i], order(S[i], n)] for i in range(n)])"
      ],
      "metadata": {
        "colab": {
          "base_uri": "https://localhost:8080/",
          "height": 196
        },
        "id": "ERWwpHUzwHCA",
        "outputId": "14337fa2-e7b2-4448-d750-f44f9e1b86fe"
      },
      "execution_count": null,
      "outputs": [
        {
          "output_type": "stream",
          "name": "stdout",
          "text": [
            "Элемент и его порядок:\n",
            "\n"
          ]
        },
        {
          "output_type": "execute_result",
          "data": {
            "text/plain": [
              "Matrix([\n",
              "[S[0], 2],\n",
              "[S[1], 2],\n",
              "[S[2], 2],\n",
              "[S[3], 2],\n",
              "[S[4], 2],\n",
              "[S[5], 2],\n",
              "[S[6], 2]])"
            ],
            "text/latex": "$\\displaystyle \\left[\\begin{matrix}{S}_{0} & 2\\\\{S}_{1} & 2\\\\{S}_{2} & 2\\\\{S}_{3} & 2\\\\{S}_{4} & 2\\\\{S}_{5} & 2\\\\{S}_{6} & 2\\end{matrix}\\right]$"
          },
          "metadata": {},
          "execution_count": 44
        }
      ]
    },
    {
      "cell_type": "markdown",
      "source": [
        "## Найдем все подгруппы и построим для них таблицы Кэли"
      ],
      "metadata": {
        "id": "Iht_eaKtwZq1"
      }
    },
    {
      "cell_type": "code",
      "source": [
        "import itertools\n",
        "\n",
        "def find_divisors(n):\n",
        "    divisors = []\n",
        "    for x in range(1, n+1):\n",
        "        if n % x == 0:\n",
        "            divisors.append(x)\n",
        "    return divisors\n",
        "\n",
        "# генерация индексов возможных подгрупп с обязательным индексом нейтрального элемента\n",
        "# их количество 2^n - 1\n",
        "def combinations_index_with_0(n):\n",
        "    digits = list(range(0, n))\n",
        "    combinations = []\n",
        "\n",
        "    for i in range(0, len(digits)+1):\n",
        "        combinations += list(itertools.combinations(digits, i))\n",
        "\n",
        "    combinations = [list(x) for x in combinations]\n",
        "    return [x for x in combinations if 0 in x]\n",
        "\n",
        "# так как порядок подгруппы делит порядок группы, то можно отобрать из этих комбинаций\n",
        "# индексов только интересующие нас комбинации с длинами из find_divisors\n",
        "# но  нужно передевать n+1, где n - 1/2 порядка диэдральной группы\n",
        "# так как будем рассматривать подгруппы вида {R_0, S_i}\n",
        "\n",
        "def indexes(n):\n",
        "    len_subgroups = find_divisors(2*n)\n",
        "    comb = combinations_index_with_0(n)\n",
        "    return [x for x in comb if len(x) in len_subgroups]\n",
        "\n",
        "n_subgroups = find_divisors(2*n)\n",
        "print(f\"Порядок группы = {2*n}, его делители: {', '.join(map(str, n_subgroups))}\")"
      ],
      "metadata": {
        "id": "coSMClYb1iGM",
        "colab": {
          "base_uri": "https://localhost:8080/"
        },
        "outputId": "c9647d18-1c32-4066-c251-dc240ddd4e25"
      },
      "execution_count": null,
      "outputs": [
        {
          "output_type": "stream",
          "name": "stdout",
          "text": [
            "Порядок группы = 14, его делители: 1, 2, 7, 14\n"
          ]
        }
      ]
    },
    {
      "cell_type": "code",
      "source": [
        "# проверяем, что подгруппа замкнута относительно операции\n",
        "# то есть, для любых двух элементов из подгруппы выполнено:\n",
        "# x*y in H, y*x in H, где H - подгруппа, x,y её элементы\n",
        "def check_group(subgroup, n):\n",
        "    for i in range(len(subgroup)):\n",
        "        for j in range(i+1, len(subgroup)):\n",
        "            if composition_Dn(subgroup[i], subgroup[j], n) not in subgroup or composition_Dn(subgroup[j], subgroup[i], n) not in subgroup:\n",
        "                return False\n",
        "    return True\n",
        "\n",
        "\n",
        "def find_subgroups(n):\n",
        "    ind_subgroups = indexes(n+1)\n",
        "    subgroups = []\n",
        "    subgroup = []\n",
        "    for ind_subgroup in ind_subgroups:\n",
        "        subgroup = []\n",
        "        for ind in ind_subgroup:\n",
        "            if ind == 0:\n",
        "                subgroup.append(R[ind])\n",
        "            else:\n",
        "                subgroup.append(S[ind-1])\n",
        "        if check_group(subgroup, n):\n",
        "            subgroups.append(subgroup)\n",
        "    subgroups.append([R[i] for i in range(n)])                            # группа из поворотов\n",
        "    subgroups.append([R[i] for i in range(n)] + [S[i] for i in range(n)]) # сама группа\n",
        "    return subgroups\n",
        "\n",
        "\n",
        "subgroups = find_subgroups(n)\n",
        "print(f'Количество найденных подгрупп, включая тривиальные: {len(subgroups)}')"
      ],
      "metadata": {
        "id": "cLtt_XrKAvDJ",
        "colab": {
          "base_uri": "https://localhost:8080/"
        },
        "outputId": "801a3ea5-42dd-436d-edb5-743d512c03db"
      },
      "execution_count": null,
      "outputs": [
        {
          "output_type": "stream",
          "name": "stdout",
          "text": [
            "Количество найденных подгрупп, включая тривиальные: 10\n"
          ]
        }
      ]
    },
    {
      "cell_type": "code",
      "source": [
        "def table_subgroup(n, row):\n",
        "    m = [[composition_Dn(row[i], row[j], n) for j in range(len(row))] for i in range(len(row))]\n",
        "    return Matrix(m)"
      ],
      "metadata": {
        "id": "Pyclm1G-Oz0U"
      },
      "execution_count": null,
      "outputs": []
    },
    {
      "cell_type": "code",
      "source": [
        "print(f'Подгруппа порядка {len(subgroups[0])}\\n')\n",
        "table_subgroup(n, subgroups[0])"
      ],
      "metadata": {
        "colab": {
          "base_uri": "https://localhost:8080/",
          "height": 76
        },
        "id": "brSYN7qvA6c1",
        "outputId": "365cf595-dba5-4259-d859-d089596e84dc"
      },
      "execution_count": null,
      "outputs": [
        {
          "output_type": "stream",
          "name": "stdout",
          "text": [
            "Подгруппа порядка 1\n",
            "\n"
          ]
        },
        {
          "output_type": "execute_result",
          "data": {
            "text/plain": [
              "Matrix([[R[0]]])"
            ],
            "text/latex": "$\\displaystyle \\left[\\begin{matrix}{R}_{0}\\end{matrix}\\right]$"
          },
          "metadata": {},
          "execution_count": 48
        }
      ]
    },
    {
      "cell_type": "code",
      "source": [
        "print(f'Подгруппа порядка {len(subgroups[1])}\\n')\n",
        "table_subgroup(n, subgroups[1])"
      ],
      "metadata": {
        "colab": {
          "base_uri": "https://localhost:8080/",
          "height": 94
        },
        "id": "TFHogdXGA_1n",
        "outputId": "930f7b7b-679c-4a2c-bc83-58662a619b27"
      },
      "execution_count": null,
      "outputs": [
        {
          "output_type": "stream",
          "name": "stdout",
          "text": [
            "Подгруппа порядка 2\n",
            "\n"
          ]
        },
        {
          "output_type": "execute_result",
          "data": {
            "text/plain": [
              "Matrix([\n",
              "[R[0], S[0]],\n",
              "[S[0], R[0]]])"
            ],
            "text/latex": "$\\displaystyle \\left[\\begin{matrix}{R}_{0} & {S}_{0}\\\\{S}_{0} & {R}_{0}\\end{matrix}\\right]$"
          },
          "metadata": {},
          "execution_count": 49
        }
      ]
    },
    {
      "cell_type": "code",
      "source": [
        "print(f'Подгруппа порядка {len(subgroups[2])}\\n')\n",
        "table_subgroup(n, subgroups[2])"
      ],
      "metadata": {
        "colab": {
          "base_uri": "https://localhost:8080/",
          "height": 94
        },
        "id": "TAdO8zJfBB44",
        "outputId": "c2f22299-5259-45fc-a041-c8289b399b6d"
      },
      "execution_count": null,
      "outputs": [
        {
          "output_type": "stream",
          "name": "stdout",
          "text": [
            "Подгруппа порядка 2\n",
            "\n"
          ]
        },
        {
          "output_type": "execute_result",
          "data": {
            "text/plain": [
              "Matrix([\n",
              "[R[0], S[1]],\n",
              "[S[1], R[0]]])"
            ],
            "text/latex": "$\\displaystyle \\left[\\begin{matrix}{R}_{0} & {S}_{1}\\\\{S}_{1} & {R}_{0}\\end{matrix}\\right]$"
          },
          "metadata": {},
          "execution_count": 50
        }
      ]
    },
    {
      "cell_type": "code",
      "source": [
        "print(f'Подгруппа порядка {len(subgroups[3])}\\n')\n",
        "table_subgroup(n, subgroups[3])"
      ],
      "metadata": {
        "colab": {
          "base_uri": "https://localhost:8080/",
          "height": 94
        },
        "outputId": "e59691a8-2b5d-4fe0-d658-fa13b3b1ca1d",
        "id": "4w0o0pefBHrK"
      },
      "execution_count": null,
      "outputs": [
        {
          "output_type": "stream",
          "name": "stdout",
          "text": [
            "Подгруппа порядка 2\n",
            "\n"
          ]
        },
        {
          "output_type": "execute_result",
          "data": {
            "text/plain": [
              "Matrix([\n",
              "[R[0], S[2]],\n",
              "[S[2], R[0]]])"
            ],
            "text/latex": "$\\displaystyle \\left[\\begin{matrix}{R}_{0} & {S}_{2}\\\\{S}_{2} & {R}_{0}\\end{matrix}\\right]$"
          },
          "metadata": {},
          "execution_count": 51
        }
      ]
    },
    {
      "cell_type": "code",
      "source": [
        "print(f'Подгруппа порядка {len(subgroups[4])}\\n')\n",
        "table_subgroup(n, subgroups[4])"
      ],
      "metadata": {
        "colab": {
          "base_uri": "https://localhost:8080/",
          "height": 94
        },
        "outputId": "8426369c-d378-417b-af67-d70e4ebd9e51",
        "id": "_hC73mIIBHrL"
      },
      "execution_count": null,
      "outputs": [
        {
          "output_type": "stream",
          "name": "stdout",
          "text": [
            "Подгруппа порядка 2\n",
            "\n"
          ]
        },
        {
          "output_type": "execute_result",
          "data": {
            "text/plain": [
              "Matrix([\n",
              "[R[0], S[3]],\n",
              "[S[3], R[0]]])"
            ],
            "text/latex": "$\\displaystyle \\left[\\begin{matrix}{R}_{0} & {S}_{3}\\\\{S}_{3} & {R}_{0}\\end{matrix}\\right]$"
          },
          "metadata": {},
          "execution_count": 52
        }
      ]
    },
    {
      "cell_type": "code",
      "source": [
        "print(f'Подгруппа порядка {len(subgroups[5])}\\n')\n",
        "table_subgroup(n, subgroups[5])"
      ],
      "metadata": {
        "outputId": "c7c4d75f-3b11-4dc3-cb75-457f3d2d4555",
        "colab": {
          "base_uri": "https://localhost:8080/",
          "height": 94
        },
        "id": "NKJYRoeUBHrM"
      },
      "execution_count": null,
      "outputs": [
        {
          "output_type": "stream",
          "name": "stdout",
          "text": [
            "Подгруппа порядка 2\n",
            "\n"
          ]
        },
        {
          "output_type": "execute_result",
          "data": {
            "text/plain": [
              "Matrix([\n",
              "[R[0], S[4]],\n",
              "[S[4], R[0]]])"
            ],
            "text/latex": "$\\displaystyle \\left[\\begin{matrix}{R}_{0} & {S}_{4}\\\\{S}_{4} & {R}_{0}\\end{matrix}\\right]$"
          },
          "metadata": {},
          "execution_count": 53
        }
      ]
    },
    {
      "cell_type": "code",
      "source": [
        "print(f'Подгруппа порядка {len(subgroups[6])}\\n')\n",
        "table_subgroup(n, subgroups[6])"
      ],
      "metadata": {
        "colab": {
          "base_uri": "https://localhost:8080/",
          "height": 94
        },
        "outputId": "a955806d-fccd-403e-f598-9b771945919a",
        "id": "uDOhEPgZBLEt"
      },
      "execution_count": null,
      "outputs": [
        {
          "output_type": "stream",
          "name": "stdout",
          "text": [
            "Подгруппа порядка 2\n",
            "\n"
          ]
        },
        {
          "output_type": "execute_result",
          "data": {
            "text/plain": [
              "Matrix([\n",
              "[R[0], S[5]],\n",
              "[S[5], R[0]]])"
            ],
            "text/latex": "$\\displaystyle \\left[\\begin{matrix}{R}_{0} & {S}_{5}\\\\{S}_{5} & {R}_{0}\\end{matrix}\\right]$"
          },
          "metadata": {},
          "execution_count": 54
        }
      ]
    },
    {
      "cell_type": "code",
      "source": [
        "print(f'Подгруппа порядка {len(subgroups[7])}\\n')\n",
        "table_subgroup(n, subgroups[7])"
      ],
      "metadata": {
        "colab": {
          "base_uri": "https://localhost:8080/",
          "height": 94
        },
        "outputId": "6fb8bf18-b251-47d9-dd16-a74d0e1b0604",
        "id": "JarVtTqvBLFE"
      },
      "execution_count": null,
      "outputs": [
        {
          "output_type": "stream",
          "name": "stdout",
          "text": [
            "Подгруппа порядка 2\n",
            "\n"
          ]
        },
        {
          "output_type": "execute_result",
          "data": {
            "text/plain": [
              "Matrix([\n",
              "[R[0], S[6]],\n",
              "[S[6], R[0]]])"
            ],
            "text/latex": "$\\displaystyle \\left[\\begin{matrix}{R}_{0} & {S}_{6}\\\\{S}_{6} & {R}_{0}\\end{matrix}\\right]$"
          },
          "metadata": {},
          "execution_count": 55
        }
      ]
    },
    {
      "cell_type": "code",
      "source": [
        "print(f'Подгруппа порядка {len(subgroups[8])}\\n')\n",
        "table_subgroup(n, subgroups[8])"
      ],
      "metadata": {
        "outputId": "0a968982-525b-4b29-83dd-eda442a3dd31",
        "colab": {
          "base_uri": "https://localhost:8080/",
          "height": 196
        },
        "id": "FEHjZVIABLFE"
      },
      "execution_count": null,
      "outputs": [
        {
          "output_type": "stream",
          "name": "stdout",
          "text": [
            "Подгруппа порядка 7\n",
            "\n"
          ]
        },
        {
          "output_type": "execute_result",
          "data": {
            "text/plain": [
              "Matrix([\n",
              "[R[0], R[1], R[2], R[3], R[4], R[5], R[6]],\n",
              "[R[1], R[2], R[3], R[4], R[5], R[6], R[0]],\n",
              "[R[2], R[3], R[4], R[5], R[6], R[0], R[1]],\n",
              "[R[3], R[4], R[5], R[6], R[0], R[1], R[2]],\n",
              "[R[4], R[5], R[6], R[0], R[1], R[2], R[3]],\n",
              "[R[5], R[6], R[0], R[1], R[2], R[3], R[4]],\n",
              "[R[6], R[0], R[1], R[2], R[3], R[4], R[5]]])"
            ],
            "text/latex": "$\\displaystyle \\left[\\begin{matrix}{R}_{0} & {R}_{1} & {R}_{2} & {R}_{3} & {R}_{4} & {R}_{5} & {R}_{6}\\\\{R}_{1} & {R}_{2} & {R}_{3} & {R}_{4} & {R}_{5} & {R}_{6} & {R}_{0}\\\\{R}_{2} & {R}_{3} & {R}_{4} & {R}_{5} & {R}_{6} & {R}_{0} & {R}_{1}\\\\{R}_{3} & {R}_{4} & {R}_{5} & {R}_{6} & {R}_{0} & {R}_{1} & {R}_{2}\\\\{R}_{4} & {R}_{5} & {R}_{6} & {R}_{0} & {R}_{1} & {R}_{2} & {R}_{3}\\\\{R}_{5} & {R}_{6} & {R}_{0} & {R}_{1} & {R}_{2} & {R}_{3} & {R}_{4}\\\\{R}_{6} & {R}_{0} & {R}_{1} & {R}_{2} & {R}_{3} & {R}_{4} & {R}_{5}\\end{matrix}\\right]$"
          },
          "metadata": {},
          "execution_count": 56
        }
      ]
    },
    {
      "cell_type": "code",
      "source": [
        "print(f'Подгруппа порядка {len(subgroups[9])}\\n')\n",
        "table_subgroup(n, subgroups[9])"
      ],
      "metadata": {
        "colab": {
          "base_uri": "https://localhost:8080/",
          "height": 338
        },
        "outputId": "28bc04a5-8afc-4c57-ee52-d6326703057d",
        "id": "o3tA2UUVBNPC"
      },
      "execution_count": null,
      "outputs": [
        {
          "output_type": "stream",
          "name": "stdout",
          "text": [
            "Подгруппа порядка 14\n",
            "\n"
          ]
        },
        {
          "output_type": "execute_result",
          "data": {
            "text/plain": [
              "Matrix([\n",
              "[R[0], R[1], R[2], R[3], R[4], R[5], R[6], S[0], S[1], S[2], S[3], S[4], S[5], S[6]],\n",
              "[R[1], R[2], R[3], R[4], R[5], R[6], R[0], S[1], S[2], S[3], S[4], S[5], S[6], S[0]],\n",
              "[R[2], R[3], R[4], R[5], R[6], R[0], R[1], S[2], S[3], S[4], S[5], S[6], S[0], S[1]],\n",
              "[R[3], R[4], R[5], R[6], R[0], R[1], R[2], S[3], S[4], S[5], S[6], S[0], S[1], S[2]],\n",
              "[R[4], R[5], R[6], R[0], R[1], R[2], R[3], S[4], S[5], S[6], S[0], S[1], S[2], S[3]],\n",
              "[R[5], R[6], R[0], R[1], R[2], R[3], R[4], S[5], S[6], S[0], S[1], S[2], S[3], S[4]],\n",
              "[R[6], R[0], R[1], R[2], R[3], R[4], R[5], S[6], S[0], S[1], S[2], S[3], S[4], S[5]],\n",
              "[S[0], S[6], S[5], S[4], S[3], S[2], S[1], R[0], R[6], R[5], R[4], R[3], R[2], R[1]],\n",
              "[S[1], S[0], S[6], S[5], S[4], S[3], S[2], R[1], R[0], R[6], R[5], R[4], R[3], R[2]],\n",
              "[S[2], S[1], S[0], S[6], S[5], S[4], S[3], R[2], R[1], R[0], R[6], R[5], R[4], R[3]],\n",
              "[S[3], S[2], S[1], S[0], S[6], S[5], S[4], R[3], R[2], R[1], R[0], R[6], R[5], R[4]],\n",
              "[S[4], S[3], S[2], S[1], S[0], S[6], S[5], R[4], R[3], R[2], R[1], R[0], R[6], R[5]],\n",
              "[S[5], S[4], S[3], S[2], S[1], S[0], S[6], R[5], R[4], R[3], R[2], R[1], R[0], R[6]],\n",
              "[S[6], S[5], S[4], S[3], S[2], S[1], S[0], R[6], R[5], R[4], R[3], R[2], R[1], R[0]]])"
            ],
            "text/latex": "$\\displaystyle \\left[\\begin{array}{cccccccccccccc}{R}_{0} & {R}_{1} & {R}_{2} & {R}_{3} & {R}_{4} & {R}_{5} & {R}_{6} & {S}_{0} & {S}_{1} & {S}_{2} & {S}_{3} & {S}_{4} & {S}_{5} & {S}_{6}\\\\{R}_{1} & {R}_{2} & {R}_{3} & {R}_{4} & {R}_{5} & {R}_{6} & {R}_{0} & {S}_{1} & {S}_{2} & {S}_{3} & {S}_{4} & {S}_{5} & {S}_{6} & {S}_{0}\\\\{R}_{2} & {R}_{3} & {R}_{4} & {R}_{5} & {R}_{6} & {R}_{0} & {R}_{1} & {S}_{2} & {S}_{3} & {S}_{4} & {S}_{5} & {S}_{6} & {S}_{0} & {S}_{1}\\\\{R}_{3} & {R}_{4} & {R}_{5} & {R}_{6} & {R}_{0} & {R}_{1} & {R}_{2} & {S}_{3} & {S}_{4} & {S}_{5} & {S}_{6} & {S}_{0} & {S}_{1} & {S}_{2}\\\\{R}_{4} & {R}_{5} & {R}_{6} & {R}_{0} & {R}_{1} & {R}_{2} & {R}_{3} & {S}_{4} & {S}_{5} & {S}_{6} & {S}_{0} & {S}_{1} & {S}_{2} & {S}_{3}\\\\{R}_{5} & {R}_{6} & {R}_{0} & {R}_{1} & {R}_{2} & {R}_{3} & {R}_{4} & {S}_{5} & {S}_{6} & {S}_{0} & {S}_{1} & {S}_{2} & {S}_{3} & {S}_{4}\\\\{R}_{6} & {R}_{0} & {R}_{1} & {R}_{2} & {R}_{3} & {R}_{4} & {R}_{5} & {S}_{6} & {S}_{0} & {S}_{1} & {S}_{2} & {S}_{3} & {S}_{4} & {S}_{5}\\\\{S}_{0} & {S}_{6} & {S}_{5} & {S}_{4} & {S}_{3} & {S}_{2} & {S}_{1} & {R}_{0} & {R}_{6} & {R}_{5} & {R}_{4} & {R}_{3} & {R}_{2} & {R}_{1}\\\\{S}_{1} & {S}_{0} & {S}_{6} & {S}_{5} & {S}_{4} & {S}_{3} & {S}_{2} & {R}_{1} & {R}_{0} & {R}_{6} & {R}_{5} & {R}_{4} & {R}_{3} & {R}_{2}\\\\{S}_{2} & {S}_{1} & {S}_{0} & {S}_{6} & {S}_{5} & {S}_{4} & {S}_{3} & {R}_{2} & {R}_{1} & {R}_{0} & {R}_{6} & {R}_{5} & {R}_{4} & {R}_{3}\\\\{S}_{3} & {S}_{2} & {S}_{1} & {S}_{0} & {S}_{6} & {S}_{5} & {S}_{4} & {R}_{3} & {R}_{2} & {R}_{1} & {R}_{0} & {R}_{6} & {R}_{5} & {R}_{4}\\\\{S}_{4} & {S}_{3} & {S}_{2} & {S}_{1} & {S}_{0} & {S}_{6} & {S}_{5} & {R}_{4} & {R}_{3} & {R}_{2} & {R}_{1} & {R}_{0} & {R}_{6} & {R}_{5}\\\\{S}_{5} & {S}_{4} & {S}_{3} & {S}_{2} & {S}_{1} & {S}_{0} & {S}_{6} & {R}_{5} & {R}_{4} & {R}_{3} & {R}_{2} & {R}_{1} & {R}_{0} & {R}_{6}\\\\{S}_{6} & {S}_{5} & {S}_{4} & {S}_{3} & {S}_{2} & {S}_{1} & {S}_{0} & {R}_{6} & {R}_{5} & {R}_{4} & {R}_{3} & {R}_{2} & {R}_{1} & {R}_{0}\\end{array}\\right]$"
          },
          "metadata": {},
          "execution_count": 57
        }
      ]
    },
    {
      "cell_type": "markdown",
      "source": [
        "# $D_{10}$"
      ],
      "metadata": {
        "id": "lkTvyJ2RpoNg"
      }
    },
    {
      "cell_type": "markdown",
      "source": [
        "## Создание объектов $R_i$ и $S_i$"
      ],
      "metadata": {
        "id": "tstJT388qelw"
      }
    },
    {
      "cell_type": "code",
      "source": [
        "N = 10\n",
        "R_1 = IndexedBase('R')\n",
        "S_1 = IndexedBase('S')\n",
        "indx_1, jndx_1 = symbols('i_1 j_1')\n",
        "indx_1 = [i for i in range(N)]\n",
        "jndx_1 = [j for j in range(N)]"
      ],
      "metadata": {
        "id": "5Vn4tSy2qkPA"
      },
      "execution_count": null,
      "outputs": []
    },
    {
      "cell_type": "markdown",
      "source": [
        "## Показываем все отображения и вращения"
      ],
      "metadata": {
        "id": "MEex5OPrrFtZ"
      }
    },
    {
      "cell_type": "code",
      "source": [
        "for i in range(len(indx_1)):\n",
        "    print(\"Отражение:\", R_1[i])\n",
        "print()\n",
        "for j in range(len(jndx_1)):\n",
        "    print('Вращение:',S_1[j])\n",
        "print()"
      ],
      "metadata": {
        "colab": {
          "base_uri": "https://localhost:8080/"
        },
        "id": "_ohCOQh7rITi",
        "outputId": "c0a94e05-2dc0-4a08-ae35-fd27a1b664b4"
      },
      "execution_count": null,
      "outputs": [
        {
          "output_type": "stream",
          "name": "stdout",
          "text": [
            "Отражение: R[0]\n",
            "Отражение: R[1]\n",
            "Отражение: R[2]\n",
            "Отражение: R[3]\n",
            "Отражение: R[4]\n",
            "Отражение: R[5]\n",
            "Отражение: R[6]\n",
            "Отражение: R[7]\n",
            "Отражение: R[8]\n",
            "Отражение: R[9]\n",
            "\n",
            "Вращение: S[0]\n",
            "Вращение: S[1]\n",
            "Вращение: S[2]\n",
            "Вращение: S[3]\n",
            "Вращение: S[4]\n",
            "Вращение: S[5]\n",
            "Вращение: S[6]\n",
            "Вращение: S[7]\n",
            "Вращение: S[8]\n",
            "Вращение: S[9]\n",
            "\n"
          ]
        }
      ]
    },
    {
      "cell_type": "markdown",
      "source": [
        "## Функция, которая выполняет композицию преобразований элементов из группы диэдра по правилу"
      ],
      "metadata": {
        "id": "u7IIj4BCrTog"
      }
    },
    {
      "cell_type": "code",
      "source": [
        "composition_Dn(S_1[2], S_1[3], N)"
      ],
      "metadata": {
        "colab": {
          "base_uri": "https://localhost:8080/",
          "height": 38
        },
        "id": "mDFHkvrgrZ3Y",
        "outputId": "31119fda-8545-48fc-803e-d1f495d988de"
      },
      "execution_count": null,
      "outputs": [
        {
          "output_type": "execute_result",
          "data": {
            "text/plain": [
              "R[9]"
            ],
            "text/latex": "$\\displaystyle {R}_{9}$"
          },
          "metadata": {},
          "execution_count": 60
        }
      ]
    },
    {
      "cell_type": "markdown",
      "source": [
        "## Построим таблицу Кэли для данной группы"
      ],
      "metadata": {
        "id": "g5yemHpmruWI"
      }
    },
    {
      "cell_type": "code",
      "source": [
        "table(N)"
      ],
      "metadata": {
        "colab": {
          "base_uri": "https://localhost:8080/",
          "height": 424
        },
        "id": "7kZRd3aJsutf",
        "outputId": "74b137db-11a9-4fb2-90a2-08ef3faa3646"
      },
      "execution_count": null,
      "outputs": [
        {
          "output_type": "execute_result",
          "data": {
            "text/plain": [
              "Matrix([\n",
              "[R[0], R[1], R[2], R[3], R[4], R[5], R[6], R[7], R[8], R[9], S[0], S[1], S[2], S[3], S[4], S[5], S[6], S[7], S[8], S[9]],\n",
              "[R[1], R[2], R[3], R[4], R[5], R[6], R[7], R[8], R[9], R[0], S[1], S[2], S[3], S[4], S[5], S[6], S[7], S[8], S[9], S[0]],\n",
              "[R[2], R[3], R[4], R[5], R[6], R[7], R[8], R[9], R[0], R[1], S[2], S[3], S[4], S[5], S[6], S[7], S[8], S[9], S[0], S[1]],\n",
              "[R[3], R[4], R[5], R[6], R[7], R[8], R[9], R[0], R[1], R[2], S[3], S[4], S[5], S[6], S[7], S[8], S[9], S[0], S[1], S[2]],\n",
              "[R[4], R[5], R[6], R[7], R[8], R[9], R[0], R[1], R[2], R[3], S[4], S[5], S[6], S[7], S[8], S[9], S[0], S[1], S[2], S[3]],\n",
              "[R[5], R[6], R[7], R[8], R[9], R[0], R[1], R[2], R[3], R[4], S[5], S[6], S[7], S[8], S[9], S[0], S[1], S[2], S[3], S[4]],\n",
              "[R[6], R[7], R[8], R[9], R[0], R[1], R[2], R[3], R[4], R[5], S[6], S[7], S[8], S[9], S[0], S[1], S[2], S[3], S[4], S[5]],\n",
              "[R[7], R[8], R[9], R[0], R[1], R[2], R[3], R[4], R[5], R[6], S[7], S[8], S[9], S[0], S[1], S[2], S[3], S[4], S[5], S[6]],\n",
              "[R[8], R[9], R[0], R[1], R[2], R[3], R[4], R[5], R[6], R[7], S[8], S[9], S[0], S[1], S[2], S[3], S[4], S[5], S[6], S[7]],\n",
              "[R[9], R[0], R[1], R[2], R[3], R[4], R[5], R[6], R[7], R[8], S[9], S[0], S[1], S[2], S[3], S[4], S[5], S[6], S[7], S[8]],\n",
              "[S[0], S[9], S[8], S[7], S[6], S[5], S[4], S[3], S[2], S[1], R[0], R[9], R[8], R[7], R[6], R[5], R[4], R[3], R[2], R[1]],\n",
              "[S[1], S[0], S[9], S[8], S[7], S[6], S[5], S[4], S[3], S[2], R[1], R[0], R[9], R[8], R[7], R[6], R[5], R[4], R[3], R[2]],\n",
              "[S[2], S[1], S[0], S[9], S[8], S[7], S[6], S[5], S[4], S[3], R[2], R[1], R[0], R[9], R[8], R[7], R[6], R[5], R[4], R[3]],\n",
              "[S[3], S[2], S[1], S[0], S[9], S[8], S[7], S[6], S[5], S[4], R[3], R[2], R[1], R[0], R[9], R[8], R[7], R[6], R[5], R[4]],\n",
              "[S[4], S[3], S[2], S[1], S[0], S[9], S[8], S[7], S[6], S[5], R[4], R[3], R[2], R[1], R[0], R[9], R[8], R[7], R[6], R[5]],\n",
              "[S[5], S[4], S[3], S[2], S[1], S[0], S[9], S[8], S[7], S[6], R[5], R[4], R[3], R[2], R[1], R[0], R[9], R[8], R[7], R[6]],\n",
              "[S[6], S[5], S[4], S[3], S[2], S[1], S[0], S[9], S[8], S[7], R[6], R[5], R[4], R[3], R[2], R[1], R[0], R[9], R[8], R[7]],\n",
              "[S[7], S[6], S[5], S[4], S[3], S[2], S[1], S[0], S[9], S[8], R[7], R[6], R[5], R[4], R[3], R[2], R[1], R[0], R[9], R[8]],\n",
              "[S[8], S[7], S[6], S[5], S[4], S[3], S[2], S[1], S[0], S[9], R[8], R[7], R[6], R[5], R[4], R[3], R[2], R[1], R[0], R[9]],\n",
              "[S[9], S[8], S[7], S[6], S[5], S[4], S[3], S[2], S[1], S[0], R[9], R[8], R[7], R[6], R[5], R[4], R[3], R[2], R[1], R[0]]])"
            ],
            "text/latex": "$\\displaystyle \\left[\\begin{array}{cccccccccccccccccccc}{R}_{0} & {R}_{1} & {R}_{2} & {R}_{3} & {R}_{4} & {R}_{5} & {R}_{6} & {R}_{7} & {R}_{8} & {R}_{9} & {S}_{0} & {S}_{1} & {S}_{2} & {S}_{3} & {S}_{4} & {S}_{5} & {S}_{6} & {S}_{7} & {S}_{8} & {S}_{9}\\\\{R}_{1} & {R}_{2} & {R}_{3} & {R}_{4} & {R}_{5} & {R}_{6} & {R}_{7} & {R}_{8} & {R}_{9} & {R}_{0} & {S}_{1} & {S}_{2} & {S}_{3} & {S}_{4} & {S}_{5} & {S}_{6} & {S}_{7} & {S}_{8} & {S}_{9} & {S}_{0}\\\\{R}_{2} & {R}_{3} & {R}_{4} & {R}_{5} & {R}_{6} & {R}_{7} & {R}_{8} & {R}_{9} & {R}_{0} & {R}_{1} & {S}_{2} & {S}_{3} & {S}_{4} & {S}_{5} & {S}_{6} & {S}_{7} & {S}_{8} & {S}_{9} & {S}_{0} & {S}_{1}\\\\{R}_{3} & {R}_{4} & {R}_{5} & {R}_{6} & {R}_{7} & {R}_{8} & {R}_{9} & {R}_{0} & {R}_{1} & {R}_{2} & {S}_{3} & {S}_{4} & {S}_{5} & {S}_{6} & {S}_{7} & {S}_{8} & {S}_{9} & {S}_{0} & {S}_{1} & {S}_{2}\\\\{R}_{4} & {R}_{5} & {R}_{6} & {R}_{7} & {R}_{8} & {R}_{9} & {R}_{0} & {R}_{1} & {R}_{2} & {R}_{3} & {S}_{4} & {S}_{5} & {S}_{6} & {S}_{7} & {S}_{8} & {S}_{9} & {S}_{0} & {S}_{1} & {S}_{2} & {S}_{3}\\\\{R}_{5} & {R}_{6} & {R}_{7} & {R}_{8} & {R}_{9} & {R}_{0} & {R}_{1} & {R}_{2} & {R}_{3} & {R}_{4} & {S}_{5} & {S}_{6} & {S}_{7} & {S}_{8} & {S}_{9} & {S}_{0} & {S}_{1} & {S}_{2} & {S}_{3} & {S}_{4}\\\\{R}_{6} & {R}_{7} & {R}_{8} & {R}_{9} & {R}_{0} & {R}_{1} & {R}_{2} & {R}_{3} & {R}_{4} & {R}_{5} & {S}_{6} & {S}_{7} & {S}_{8} & {S}_{9} & {S}_{0} & {S}_{1} & {S}_{2} & {S}_{3} & {S}_{4} & {S}_{5}\\\\{R}_{7} & {R}_{8} & {R}_{9} & {R}_{0} & {R}_{1} & {R}_{2} & {R}_{3} & {R}_{4} & {R}_{5} & {R}_{6} & {S}_{7} & {S}_{8} & {S}_{9} & {S}_{0} & {S}_{1} & {S}_{2} & {S}_{3} & {S}_{4} & {S}_{5} & {S}_{6}\\\\{R}_{8} & {R}_{9} & {R}_{0} & {R}_{1} & {R}_{2} & {R}_{3} & {R}_{4} & {R}_{5} & {R}_{6} & {R}_{7} & {S}_{8} & {S}_{9} & {S}_{0} & {S}_{1} & {S}_{2} & {S}_{3} & {S}_{4} & {S}_{5} & {S}_{6} & {S}_{7}\\\\{R}_{9} & {R}_{0} & {R}_{1} & {R}_{2} & {R}_{3} & {R}_{4} & {R}_{5} & {R}_{6} & {R}_{7} & {R}_{8} & {S}_{9} & {S}_{0} & {S}_{1} & {S}_{2} & {S}_{3} & {S}_{4} & {S}_{5} & {S}_{6} & {S}_{7} & {S}_{8}\\\\{S}_{0} & {S}_{9} & {S}_{8} & {S}_{7} & {S}_{6} & {S}_{5} & {S}_{4} & {S}_{3} & {S}_{2} & {S}_{1} & {R}_{0} & {R}_{9} & {R}_{8} & {R}_{7} & {R}_{6} & {R}_{5} & {R}_{4} & {R}_{3} & {R}_{2} & {R}_{1}\\\\{S}_{1} & {S}_{0} & {S}_{9} & {S}_{8} & {S}_{7} & {S}_{6} & {S}_{5} & {S}_{4} & {S}_{3} & {S}_{2} & {R}_{1} & {R}_{0} & {R}_{9} & {R}_{8} & {R}_{7} & {R}_{6} & {R}_{5} & {R}_{4} & {R}_{3} & {R}_{2}\\\\{S}_{2} & {S}_{1} & {S}_{0} & {S}_{9} & {S}_{8} & {S}_{7} & {S}_{6} & {S}_{5} & {S}_{4} & {S}_{3} & {R}_{2} & {R}_{1} & {R}_{0} & {R}_{9} & {R}_{8} & {R}_{7} & {R}_{6} & {R}_{5} & {R}_{4} & {R}_{3}\\\\{S}_{3} & {S}_{2} & {S}_{1} & {S}_{0} & {S}_{9} & {S}_{8} & {S}_{7} & {S}_{6} & {S}_{5} & {S}_{4} & {R}_{3} & {R}_{2} & {R}_{1} & {R}_{0} & {R}_{9} & {R}_{8} & {R}_{7} & {R}_{6} & {R}_{5} & {R}_{4}\\\\{S}_{4} & {S}_{3} & {S}_{2} & {S}_{1} & {S}_{0} & {S}_{9} & {S}_{8} & {S}_{7} & {S}_{6} & {S}_{5} & {R}_{4} & {R}_{3} & {R}_{2} & {R}_{1} & {R}_{0} & {R}_{9} & {R}_{8} & {R}_{7} & {R}_{6} & {R}_{5}\\\\{S}_{5} & {S}_{4} & {S}_{3} & {S}_{2} & {S}_{1} & {S}_{0} & {S}_{9} & {S}_{8} & {S}_{7} & {S}_{6} & {R}_{5} & {R}_{4} & {R}_{3} & {R}_{2} & {R}_{1} & {R}_{0} & {R}_{9} & {R}_{8} & {R}_{7} & {R}_{6}\\\\{S}_{6} & {S}_{5} & {S}_{4} & {S}_{3} & {S}_{2} & {S}_{1} & {S}_{0} & {S}_{9} & {S}_{8} & {S}_{7} & {R}_{6} & {R}_{5} & {R}_{4} & {R}_{3} & {R}_{2} & {R}_{1} & {R}_{0} & {R}_{9} & {R}_{8} & {R}_{7}\\\\{S}_{7} & {S}_{6} & {S}_{5} & {S}_{4} & {S}_{3} & {S}_{2} & {S}_{1} & {S}_{0} & {S}_{9} & {S}_{8} & {R}_{7} & {R}_{6} & {R}_{5} & {R}_{4} & {R}_{3} & {R}_{2} & {R}_{1} & {R}_{0} & {R}_{9} & {R}_{8}\\\\{S}_{8} & {S}_{7} & {S}_{6} & {S}_{5} & {S}_{4} & {S}_{3} & {S}_{2} & {S}_{1} & {S}_{0} & {S}_{9} & {R}_{8} & {R}_{7} & {R}_{6} & {R}_{5} & {R}_{4} & {R}_{3} & {R}_{2} & {R}_{1} & {R}_{0} & {R}_{9}\\\\{S}_{9} & {S}_{8} & {S}_{7} & {S}_{6} & {S}_{5} & {S}_{4} & {S}_{3} & {S}_{2} & {S}_{1} & {S}_{0} & {R}_{9} & {R}_{8} & {R}_{7} & {R}_{6} & {R}_{5} & {R}_{4} & {R}_{3} & {R}_{2} & {R}_{1} & {R}_{0}\\end{array}\\right]$"
          },
          "metadata": {},
          "execution_count": 61
        }
      ]
    },
    {
      "cell_type": "markdown",
      "source": [
        "## Для каждого элемента находим обратный к нему"
      ],
      "metadata": {
        "id": "18A-wATzs_ow"
      }
    },
    {
      "cell_type": "code",
      "source": [
        "for i in range(N):\n",
        "     print(f'Обратный элемент для {R_1[i]}: {reverse_element(R_1[i], N)}')"
      ],
      "metadata": {
        "colab": {
          "base_uri": "https://localhost:8080/"
        },
        "id": "mg_79_XUtZ4P",
        "outputId": "acc6da50-0fc8-49a3-9ba0-36d733a09b3e"
      },
      "execution_count": null,
      "outputs": [
        {
          "output_type": "stream",
          "name": "stdout",
          "text": [
            "Обратный элемент для R[0]: R[0]\n",
            "Обратный элемент для R[1]: R[9]\n",
            "Обратный элемент для R[2]: R[8]\n",
            "Обратный элемент для R[3]: R[7]\n",
            "Обратный элемент для R[4]: R[6]\n",
            "Обратный элемент для R[5]: R[5]\n",
            "Обратный элемент для R[6]: R[4]\n",
            "Обратный элемент для R[7]: R[3]\n",
            "Обратный элемент для R[8]: R[2]\n",
            "Обратный элемент для R[9]: R[1]\n"
          ]
        }
      ]
    },
    {
      "cell_type": "code",
      "source": [
        "for i in range(N):\n",
        "     print(f'Обратный элемент для {S_1[i]}: {reverse_element(S_1[i], N)}')"
      ],
      "metadata": {
        "colab": {
          "base_uri": "https://localhost:8080/"
        },
        "id": "WwpzLxnvuBx5",
        "outputId": "894c5117-1d8c-43e7-85f7-0b221dbc5bb2"
      },
      "execution_count": null,
      "outputs": [
        {
          "output_type": "stream",
          "name": "stdout",
          "text": [
            "Обратный элемент для S[0]: S[0]\n",
            "Обратный элемент для S[1]: S[1]\n",
            "Обратный элемент для S[2]: S[2]\n",
            "Обратный элемент для S[3]: S[3]\n",
            "Обратный элемент для S[4]: S[4]\n",
            "Обратный элемент для S[5]: S[5]\n",
            "Обратный элемент для S[6]: S[6]\n",
            "Обратный элемент для S[7]: S[7]\n",
            "Обратный элемент для S[8]: S[8]\n",
            "Обратный элемент для S[9]: S[9]\n"
          ]
        }
      ]
    },
    {
      "cell_type": "markdown",
      "source": [
        "## Находим порядок каждого элемента группы"
      ],
      "metadata": {
        "id": "1gPFiD49uLka"
      }
    },
    {
      "cell_type": "code",
      "source": [
        "for i in range(N):\n",
        "    print(f'Порядок элемента {R_1[i]}: {order(R_1[i], N)}')"
      ],
      "metadata": {
        "colab": {
          "base_uri": "https://localhost:8080/"
        },
        "id": "uRFkgVmQulDi",
        "outputId": "daa0a578-6839-42b3-b7c8-00c5ea493b71"
      },
      "execution_count": null,
      "outputs": [
        {
          "output_type": "stream",
          "name": "stdout",
          "text": [
            "Порядок элемента R[0]: 1\n",
            "Порядок элемента R[1]: 10\n",
            "Порядок элемента R[2]: 5\n",
            "Порядок элемента R[3]: 10\n",
            "Порядок элемента R[4]: 5\n",
            "Порядок элемента R[5]: 2\n",
            "Порядок элемента R[6]: 5\n",
            "Порядок элемента R[7]: 10\n",
            "Порядок элемента R[8]: 5\n",
            "Порядок элемента R[9]: 10\n"
          ]
        }
      ]
    },
    {
      "cell_type": "code",
      "source": [
        "for i in range(N):\n",
        "    print(f'Порядок элемента {S_1[i]}: {order(S_1[i], N)}')"
      ],
      "metadata": {
        "colab": {
          "base_uri": "https://localhost:8080/"
        },
        "id": "zLLGxOBfusEY",
        "outputId": "baf2ce92-5059-4cae-c442-29d990f94d5a"
      },
      "execution_count": null,
      "outputs": [
        {
          "output_type": "stream",
          "name": "stdout",
          "text": [
            "Порядок элемента S[0]: 2\n",
            "Порядок элемента S[1]: 2\n",
            "Порядок элемента S[2]: 2\n",
            "Порядок элемента S[3]: 2\n",
            "Порядок элемента S[4]: 2\n",
            "Порядок элемента S[5]: 2\n",
            "Порядок элемента S[6]: 2\n",
            "Порядок элемента S[7]: 2\n",
            "Порядок элемента S[8]: 2\n",
            "Порядок элемента S[9]: 2\n"
          ]
        }
      ]
    },
    {
      "cell_type": "markdown",
      "source": [
        "## Найдем все подгруппы и построим для них таблицы Кэли"
      ],
      "metadata": {
        "id": "n2SJOkpluyoy"
      }
    },
    {
      "cell_type": "code",
      "source": [
        "N_subgroups = find_divisors(2*N)\n",
        "print(f\"Порядок группы = {2*N}, его делители: {', '.join(map(str, N_subgroups))}\")"
      ],
      "metadata": {
        "colab": {
          "base_uri": "https://localhost:8080/"
        },
        "id": "jObqBw7gvAHH",
        "outputId": "6ee89d69-c4d1-4a73-b5a9-7a8809a6c362"
      },
      "execution_count": null,
      "outputs": [
        {
          "output_type": "stream",
          "name": "stdout",
          "text": [
            "Порядок группы = 20, его делители: 1, 2, 4, 5, 10, 20\n"
          ]
        }
      ]
    },
    {
      "cell_type": "code",
      "source": [
        "subgroups_ = find_subgroups(N)\n",
        "print(f'Количество найденных подгрупп, включая тривиальные: {len(subgroups_)}')"
      ],
      "metadata": {
        "id": "t5jnJXMIRFFC",
        "colab": {
          "base_uri": "https://localhost:8080/"
        },
        "outputId": "d6c73f70-e4bc-4446-d8d0-6c83248bea15"
      },
      "execution_count": null,
      "outputs": [
        {
          "output_type": "stream",
          "name": "stdout",
          "text": [
            "Количество найденных подгрупп, включая тривиальные: 13\n"
          ]
        }
      ]
    },
    {
      "cell_type": "markdown",
      "source": [
        "## Строим таблицу Кэлли для подгруппы порядка  1"
      ],
      "metadata": {
        "id": "HdXJB-AsvS_3"
      }
    },
    {
      "cell_type": "code",
      "source": [
        "table_subgroup(N, subgroups_[0])"
      ],
      "metadata": {
        "id": "ri-GLSosvi3m",
        "colab": {
          "base_uri": "https://localhost:8080/",
          "height": 58
        },
        "outputId": "e1e977ff-2a65-4623-b84d-bdbcf91859e7"
      },
      "execution_count": null,
      "outputs": [
        {
          "output_type": "execute_result",
          "data": {
            "text/plain": [
              "Matrix([\n",
              "[R[0], S[0]],\n",
              "[S[0], R[0]]])"
            ],
            "text/latex": "$\\displaystyle \\left[\\begin{matrix}{R}_{0} & {S}_{0}\\\\{S}_{0} & {R}_{0}\\end{matrix}\\right]$"
          },
          "metadata": {},
          "execution_count": 69
        }
      ]
    },
    {
      "cell_type": "markdown",
      "source": [
        "## Строим таблицу Кэлли для подгрупп порядка 2"
      ],
      "metadata": {
        "id": "mgW1Noi7v0Qc"
      }
    },
    {
      "cell_type": "code",
      "source": [
        "table_subgroup(N, subgroups_[1])"
      ],
      "metadata": {
        "id": "S4QsD9Civ1ru",
        "colab": {
          "base_uri": "https://localhost:8080/",
          "height": 58
        },
        "outputId": "b229fb21-24e7-4141-a1e6-18bcf6523aec"
      },
      "execution_count": null,
      "outputs": [
        {
          "output_type": "execute_result",
          "data": {
            "text/plain": [
              "Matrix([\n",
              "[R[0], S[0]],\n",
              "[S[0], R[0]]])"
            ],
            "text/latex": "$\\displaystyle \\left[\\begin{matrix}{R}_{0} & {S}_{0}\\\\{S}_{0} & {R}_{0}\\end{matrix}\\right]$"
          },
          "metadata": {},
          "execution_count": 70
        }
      ]
    },
    {
      "cell_type": "code",
      "source": [
        "table_subgroup(N, subgroups_[2])"
      ],
      "metadata": {
        "colab": {
          "base_uri": "https://localhost:8080/",
          "height": 58
        },
        "id": "5uJWvrTTDA41",
        "outputId": "9dbcd3e7-267d-4345-c103-ba718e5eb741"
      },
      "execution_count": null,
      "outputs": [
        {
          "output_type": "execute_result",
          "data": {
            "text/plain": [
              "Matrix([\n",
              "[R[0], S[1]],\n",
              "[S[1], R[0]]])"
            ],
            "text/latex": "$\\displaystyle \\left[\\begin{matrix}{R}_{0} & {S}_{1}\\\\{S}_{1} & {R}_{0}\\end{matrix}\\right]$"
          },
          "metadata": {},
          "execution_count": 71
        }
      ]
    },
    {
      "cell_type": "code",
      "source": [
        "table_subgroup(N, subgroups_[3])"
      ],
      "metadata": {
        "colab": {
          "base_uri": "https://localhost:8080/",
          "height": 58
        },
        "id": "l7BmBvFlDB1B",
        "outputId": "3b382fa6-87e1-43fc-e3c7-6e12c3740a6e"
      },
      "execution_count": null,
      "outputs": [
        {
          "output_type": "execute_result",
          "data": {
            "text/plain": [
              "Matrix([\n",
              "[R[0], S[2]],\n",
              "[S[2], R[0]]])"
            ],
            "text/latex": "$\\displaystyle \\left[\\begin{matrix}{R}_{0} & {S}_{2}\\\\{S}_{2} & {R}_{0}\\end{matrix}\\right]$"
          },
          "metadata": {},
          "execution_count": 72
        }
      ]
    },
    {
      "cell_type": "code",
      "source": [
        "table_subgroup(N, subgroups_[4])"
      ],
      "metadata": {
        "colab": {
          "base_uri": "https://localhost:8080/",
          "height": 58
        },
        "id": "TPHNH3cMDC9Q",
        "outputId": "bd8fd3f4-0e89-4e3b-ef00-99bb3ec248c1"
      },
      "execution_count": null,
      "outputs": [
        {
          "output_type": "execute_result",
          "data": {
            "text/plain": [
              "Matrix([\n",
              "[R[0], S[3]],\n",
              "[S[3], R[0]]])"
            ],
            "text/latex": "$\\displaystyle \\left[\\begin{matrix}{R}_{0} & {S}_{3}\\\\{S}_{3} & {R}_{0}\\end{matrix}\\right]$"
          },
          "metadata": {},
          "execution_count": 73
        }
      ]
    },
    {
      "cell_type": "code",
      "source": [
        "table_subgroup(N, subgroups_[5])"
      ],
      "metadata": {
        "colab": {
          "base_uri": "https://localhost:8080/",
          "height": 58
        },
        "id": "cSVxo2LUDEIX",
        "outputId": "b708633c-a666-421d-e382-fe1eedc0e68a"
      },
      "execution_count": null,
      "outputs": [
        {
          "output_type": "execute_result",
          "data": {
            "text/plain": [
              "Matrix([\n",
              "[R[0], S[4]],\n",
              "[S[4], R[0]]])"
            ],
            "text/latex": "$\\displaystyle \\left[\\begin{matrix}{R}_{0} & {S}_{4}\\\\{S}_{4} & {R}_{0}\\end{matrix}\\right]$"
          },
          "metadata": {},
          "execution_count": 74
        }
      ]
    },
    {
      "cell_type": "code",
      "source": [
        "table_subgroup(N, subgroups_[6])"
      ],
      "metadata": {
        "colab": {
          "base_uri": "https://localhost:8080/",
          "height": 58
        },
        "id": "Ns3fjcbpDFy2",
        "outputId": "5712960e-17e8-4b17-876d-e556288291ae"
      },
      "execution_count": null,
      "outputs": [
        {
          "output_type": "execute_result",
          "data": {
            "text/plain": [
              "Matrix([\n",
              "[R[0], S[5]],\n",
              "[S[5], R[0]]])"
            ],
            "text/latex": "$\\displaystyle \\left[\\begin{matrix}{R}_{0} & {S}_{5}\\\\{S}_{5} & {R}_{0}\\end{matrix}\\right]$"
          },
          "metadata": {},
          "execution_count": 75
        }
      ]
    },
    {
      "cell_type": "code",
      "source": [
        "table_subgroup(N, subgroups_[7])"
      ],
      "metadata": {
        "colab": {
          "base_uri": "https://localhost:8080/",
          "height": 58
        },
        "id": "Qg2fExV2DHOv",
        "outputId": "0773ea68-503e-445f-9169-06ce8de67e8b"
      },
      "execution_count": null,
      "outputs": [
        {
          "output_type": "execute_result",
          "data": {
            "text/plain": [
              "Matrix([\n",
              "[R[0], S[6]],\n",
              "[S[6], R[0]]])"
            ],
            "text/latex": "$\\displaystyle \\left[\\begin{matrix}{R}_{0} & {S}_{6}\\\\{S}_{6} & {R}_{0}\\end{matrix}\\right]$"
          },
          "metadata": {},
          "execution_count": 76
        }
      ]
    },
    {
      "cell_type": "code",
      "source": [
        "table_subgroup(N, subgroups_[8])"
      ],
      "metadata": {
        "colab": {
          "base_uri": "https://localhost:8080/",
          "height": 58
        },
        "id": "exd4oueHDIiM",
        "outputId": "8df4133d-a00f-4887-f584-f6447c968739"
      },
      "execution_count": null,
      "outputs": [
        {
          "output_type": "execute_result",
          "data": {
            "text/plain": [
              "Matrix([\n",
              "[R[0], S[7]],\n",
              "[S[7], R[0]]])"
            ],
            "text/latex": "$\\displaystyle \\left[\\begin{matrix}{R}_{0} & {S}_{7}\\\\{S}_{7} & {R}_{0}\\end{matrix}\\right]$"
          },
          "metadata": {},
          "execution_count": 77
        }
      ]
    },
    {
      "cell_type": "code",
      "source": [
        "table_subgroup(N, subgroups_[9])"
      ],
      "metadata": {
        "colab": {
          "base_uri": "https://localhost:8080/",
          "height": 58
        },
        "id": "C6wwTew0DLXw",
        "outputId": "262eb812-c3f3-402f-caab-5eef64c21b82"
      },
      "execution_count": null,
      "outputs": [
        {
          "output_type": "execute_result",
          "data": {
            "text/plain": [
              "Matrix([\n",
              "[R[0], S[8]],\n",
              "[S[8], R[0]]])"
            ],
            "text/latex": "$\\displaystyle \\left[\\begin{matrix}{R}_{0} & {S}_{8}\\\\{S}_{8} & {R}_{0}\\end{matrix}\\right]$"
          },
          "metadata": {},
          "execution_count": 78
        }
      ]
    },
    {
      "cell_type": "code",
      "source": [
        "table_subgroup(N, subgroups_[10])"
      ],
      "metadata": {
        "colab": {
          "base_uri": "https://localhost:8080/",
          "height": 58
        },
        "id": "H1qiScbiDMn3",
        "outputId": "aab57863-e269-4a63-faf4-eb2a12e7dc53"
      },
      "execution_count": null,
      "outputs": [
        {
          "output_type": "execute_result",
          "data": {
            "text/plain": [
              "Matrix([\n",
              "[R[0], S[9]],\n",
              "[S[9], R[0]]])"
            ],
            "text/latex": "$\\displaystyle \\left[\\begin{matrix}{R}_{0} & {S}_{9}\\\\{S}_{9} & {R}_{0}\\end{matrix}\\right]$"
          },
          "metadata": {},
          "execution_count": 79
        }
      ]
    },
    {
      "cell_type": "markdown",
      "source": [
        "## Строим таблицу Кэлли для подгруппы порядка 10"
      ],
      "metadata": {
        "id": "Sf17r6aWwEXu"
      }
    },
    {
      "cell_type": "code",
      "source": [
        "table_subgroup(N, subgroups_[11])"
      ],
      "metadata": {
        "id": "yIFkfxCFwFk-",
        "colab": {
          "base_uri": "https://localhost:8080/",
          "height": 221
        },
        "outputId": "e68f1f11-f0d3-49be-dc8c-7fa293351af9"
      },
      "execution_count": null,
      "outputs": [
        {
          "output_type": "execute_result",
          "data": {
            "text/plain": [
              "Matrix([\n",
              "[R[0], R[1], R[2], R[3], R[4], R[5], R[6], R[7], R[8], R[9]],\n",
              "[R[1], R[2], R[3], R[4], R[5], R[6], R[7], R[8], R[9], R[0]],\n",
              "[R[2], R[3], R[4], R[5], R[6], R[7], R[8], R[9], R[0], R[1]],\n",
              "[R[3], R[4], R[5], R[6], R[7], R[8], R[9], R[0], R[1], R[2]],\n",
              "[R[4], R[5], R[6], R[7], R[8], R[9], R[0], R[1], R[2], R[3]],\n",
              "[R[5], R[6], R[7], R[8], R[9], R[0], R[1], R[2], R[3], R[4]],\n",
              "[R[6], R[7], R[8], R[9], R[0], R[1], R[2], R[3], R[4], R[5]],\n",
              "[R[7], R[8], R[9], R[0], R[1], R[2], R[3], R[4], R[5], R[6]],\n",
              "[R[8], R[9], R[0], R[1], R[2], R[3], R[4], R[5], R[6], R[7]],\n",
              "[R[9], R[0], R[1], R[2], R[3], R[4], R[5], R[6], R[7], R[8]]])"
            ],
            "text/latex": "$\\displaystyle \\left[\\begin{matrix}{R}_{0} & {R}_{1} & {R}_{2} & {R}_{3} & {R}_{4} & {R}_{5} & {R}_{6} & {R}_{7} & {R}_{8} & {R}_{9}\\\\{R}_{1} & {R}_{2} & {R}_{3} & {R}_{4} & {R}_{5} & {R}_{6} & {R}_{7} & {R}_{8} & {R}_{9} & {R}_{0}\\\\{R}_{2} & {R}_{3} & {R}_{4} & {R}_{5} & {R}_{6} & {R}_{7} & {R}_{8} & {R}_{9} & {R}_{0} & {R}_{1}\\\\{R}_{3} & {R}_{4} & {R}_{5} & {R}_{6} & {R}_{7} & {R}_{8} & {R}_{9} & {R}_{0} & {R}_{1} & {R}_{2}\\\\{R}_{4} & {R}_{5} & {R}_{6} & {R}_{7} & {R}_{8} & {R}_{9} & {R}_{0} & {R}_{1} & {R}_{2} & {R}_{3}\\\\{R}_{5} & {R}_{6} & {R}_{7} & {R}_{8} & {R}_{9} & {R}_{0} & {R}_{1} & {R}_{2} & {R}_{3} & {R}_{4}\\\\{R}_{6} & {R}_{7} & {R}_{8} & {R}_{9} & {R}_{0} & {R}_{1} & {R}_{2} & {R}_{3} & {R}_{4} & {R}_{5}\\\\{R}_{7} & {R}_{8} & {R}_{9} & {R}_{0} & {R}_{1} & {R}_{2} & {R}_{3} & {R}_{4} & {R}_{5} & {R}_{6}\\\\{R}_{8} & {R}_{9} & {R}_{0} & {R}_{1} & {R}_{2} & {R}_{3} & {R}_{4} & {R}_{5} & {R}_{6} & {R}_{7}\\\\{R}_{9} & {R}_{0} & {R}_{1} & {R}_{2} & {R}_{3} & {R}_{4} & {R}_{5} & {R}_{6} & {R}_{7} & {R}_{8}\\end{matrix}\\right]$"
          },
          "metadata": {},
          "execution_count": 80
        }
      ]
    },
    {
      "cell_type": "markdown",
      "source": [
        "## Строим таблицу Кэлли для подгруппы порядка 14"
      ],
      "metadata": {
        "id": "h3JSwkrCDZsP"
      }
    },
    {
      "cell_type": "code",
      "source": [
        "table_subgroup(N, subgroups_[12])"
      ],
      "metadata": {
        "id": "UUEuRtOqhJax",
        "colab": {
          "base_uri": "https://localhost:8080/",
          "height": 424
        },
        "outputId": "9f0ce4c5-8869-42d5-cded-e4b6b4506453"
      },
      "execution_count": null,
      "outputs": [
        {
          "output_type": "execute_result",
          "data": {
            "text/plain": [
              "Matrix([\n",
              "[R[0], R[1], R[2], R[3], R[4], R[5], R[6], R[7], R[8], R[9], S[0], S[1], S[2], S[3], S[4], S[5], S[6], S[7], S[8], S[9]],\n",
              "[R[1], R[2], R[3], R[4], R[5], R[6], R[7], R[8], R[9], R[0], S[1], S[2], S[3], S[4], S[5], S[6], S[7], S[8], S[9], S[0]],\n",
              "[R[2], R[3], R[4], R[5], R[6], R[7], R[8], R[9], R[0], R[1], S[2], S[3], S[4], S[5], S[6], S[7], S[8], S[9], S[0], S[1]],\n",
              "[R[3], R[4], R[5], R[6], R[7], R[8], R[9], R[0], R[1], R[2], S[3], S[4], S[5], S[6], S[7], S[8], S[9], S[0], S[1], S[2]],\n",
              "[R[4], R[5], R[6], R[7], R[8], R[9], R[0], R[1], R[2], R[3], S[4], S[5], S[6], S[7], S[8], S[9], S[0], S[1], S[2], S[3]],\n",
              "[R[5], R[6], R[7], R[8], R[9], R[0], R[1], R[2], R[3], R[4], S[5], S[6], S[7], S[8], S[9], S[0], S[1], S[2], S[3], S[4]],\n",
              "[R[6], R[7], R[8], R[9], R[0], R[1], R[2], R[3], R[4], R[5], S[6], S[7], S[8], S[9], S[0], S[1], S[2], S[3], S[4], S[5]],\n",
              "[R[7], R[8], R[9], R[0], R[1], R[2], R[3], R[4], R[5], R[6], S[7], S[8], S[9], S[0], S[1], S[2], S[3], S[4], S[5], S[6]],\n",
              "[R[8], R[9], R[0], R[1], R[2], R[3], R[4], R[5], R[6], R[7], S[8], S[9], S[0], S[1], S[2], S[3], S[4], S[5], S[6], S[7]],\n",
              "[R[9], R[0], R[1], R[2], R[3], R[4], R[5], R[6], R[7], R[8], S[9], S[0], S[1], S[2], S[3], S[4], S[5], S[6], S[7], S[8]],\n",
              "[S[0], S[9], S[8], S[7], S[6], S[5], S[4], S[3], S[2], S[1], R[0], R[9], R[8], R[7], R[6], R[5], R[4], R[3], R[2], R[1]],\n",
              "[S[1], S[0], S[9], S[8], S[7], S[6], S[5], S[4], S[3], S[2], R[1], R[0], R[9], R[8], R[7], R[6], R[5], R[4], R[3], R[2]],\n",
              "[S[2], S[1], S[0], S[9], S[8], S[7], S[6], S[5], S[4], S[3], R[2], R[1], R[0], R[9], R[8], R[7], R[6], R[5], R[4], R[3]],\n",
              "[S[3], S[2], S[1], S[0], S[9], S[8], S[7], S[6], S[5], S[4], R[3], R[2], R[1], R[0], R[9], R[8], R[7], R[6], R[5], R[4]],\n",
              "[S[4], S[3], S[2], S[1], S[0], S[9], S[8], S[7], S[6], S[5], R[4], R[3], R[2], R[1], R[0], R[9], R[8], R[7], R[6], R[5]],\n",
              "[S[5], S[4], S[3], S[2], S[1], S[0], S[9], S[8], S[7], S[6], R[5], R[4], R[3], R[2], R[1], R[0], R[9], R[8], R[7], R[6]],\n",
              "[S[6], S[5], S[4], S[3], S[2], S[1], S[0], S[9], S[8], S[7], R[6], R[5], R[4], R[3], R[2], R[1], R[0], R[9], R[8], R[7]],\n",
              "[S[7], S[6], S[5], S[4], S[3], S[2], S[1], S[0], S[9], S[8], R[7], R[6], R[5], R[4], R[3], R[2], R[1], R[0], R[9], R[8]],\n",
              "[S[8], S[7], S[6], S[5], S[4], S[3], S[2], S[1], S[0], S[9], R[8], R[7], R[6], R[5], R[4], R[3], R[2], R[1], R[0], R[9]],\n",
              "[S[9], S[8], S[7], S[6], S[5], S[4], S[3], S[2], S[1], S[0], R[9], R[8], R[7], R[6], R[5], R[4], R[3], R[2], R[1], R[0]]])"
            ],
            "text/latex": "$\\displaystyle \\left[\\begin{array}{cccccccccccccccccccc}{R}_{0} & {R}_{1} & {R}_{2} & {R}_{3} & {R}_{4} & {R}_{5} & {R}_{6} & {R}_{7} & {R}_{8} & {R}_{9} & {S}_{0} & {S}_{1} & {S}_{2} & {S}_{3} & {S}_{4} & {S}_{5} & {S}_{6} & {S}_{7} & {S}_{8} & {S}_{9}\\\\{R}_{1} & {R}_{2} & {R}_{3} & {R}_{4} & {R}_{5} & {R}_{6} & {R}_{7} & {R}_{8} & {R}_{9} & {R}_{0} & {S}_{1} & {S}_{2} & {S}_{3} & {S}_{4} & {S}_{5} & {S}_{6} & {S}_{7} & {S}_{8} & {S}_{9} & {S}_{0}\\\\{R}_{2} & {R}_{3} & {R}_{4} & {R}_{5} & {R}_{6} & {R}_{7} & {R}_{8} & {R}_{9} & {R}_{0} & {R}_{1} & {S}_{2} & {S}_{3} & {S}_{4} & {S}_{5} & {S}_{6} & {S}_{7} & {S}_{8} & {S}_{9} & {S}_{0} & {S}_{1}\\\\{R}_{3} & {R}_{4} & {R}_{5} & {R}_{6} & {R}_{7} & {R}_{8} & {R}_{9} & {R}_{0} & {R}_{1} & {R}_{2} & {S}_{3} & {S}_{4} & {S}_{5} & {S}_{6} & {S}_{7} & {S}_{8} & {S}_{9} & {S}_{0} & {S}_{1} & {S}_{2}\\\\{R}_{4} & {R}_{5} & {R}_{6} & {R}_{7} & {R}_{8} & {R}_{9} & {R}_{0} & {R}_{1} & {R}_{2} & {R}_{3} & {S}_{4} & {S}_{5} & {S}_{6} & {S}_{7} & {S}_{8} & {S}_{9} & {S}_{0} & {S}_{1} & {S}_{2} & {S}_{3}\\\\{R}_{5} & {R}_{6} & {R}_{7} & {R}_{8} & {R}_{9} & {R}_{0} & {R}_{1} & {R}_{2} & {R}_{3} & {R}_{4} & {S}_{5} & {S}_{6} & {S}_{7} & {S}_{8} & {S}_{9} & {S}_{0} & {S}_{1} & {S}_{2} & {S}_{3} & {S}_{4}\\\\{R}_{6} & {R}_{7} & {R}_{8} & {R}_{9} & {R}_{0} & {R}_{1} & {R}_{2} & {R}_{3} & {R}_{4} & {R}_{5} & {S}_{6} & {S}_{7} & {S}_{8} & {S}_{9} & {S}_{0} & {S}_{1} & {S}_{2} & {S}_{3} & {S}_{4} & {S}_{5}\\\\{R}_{7} & {R}_{8} & {R}_{9} & {R}_{0} & {R}_{1} & {R}_{2} & {R}_{3} & {R}_{4} & {R}_{5} & {R}_{6} & {S}_{7} & {S}_{8} & {S}_{9} & {S}_{0} & {S}_{1} & {S}_{2} & {S}_{3} & {S}_{4} & {S}_{5} & {S}_{6}\\\\{R}_{8} & {R}_{9} & {R}_{0} & {R}_{1} & {R}_{2} & {R}_{3} & {R}_{4} & {R}_{5} & {R}_{6} & {R}_{7} & {S}_{8} & {S}_{9} & {S}_{0} & {S}_{1} & {S}_{2} & {S}_{3} & {S}_{4} & {S}_{5} & {S}_{6} & {S}_{7}\\\\{R}_{9} & {R}_{0} & {R}_{1} & {R}_{2} & {R}_{3} & {R}_{4} & {R}_{5} & {R}_{6} & {R}_{7} & {R}_{8} & {S}_{9} & {S}_{0} & {S}_{1} & {S}_{2} & {S}_{3} & {S}_{4} & {S}_{5} & {S}_{6} & {S}_{7} & {S}_{8}\\\\{S}_{0} & {S}_{9} & {S}_{8} & {S}_{7} & {S}_{6} & {S}_{5} & {S}_{4} & {S}_{3} & {S}_{2} & {S}_{1} & {R}_{0} & {R}_{9} & {R}_{8} & {R}_{7} & {R}_{6} & {R}_{5} & {R}_{4} & {R}_{3} & {R}_{2} & {R}_{1}\\\\{S}_{1} & {S}_{0} & {S}_{9} & {S}_{8} & {S}_{7} & {S}_{6} & {S}_{5} & {S}_{4} & {S}_{3} & {S}_{2} & {R}_{1} & {R}_{0} & {R}_{9} & {R}_{8} & {R}_{7} & {R}_{6} & {R}_{5} & {R}_{4} & {R}_{3} & {R}_{2}\\\\{S}_{2} & {S}_{1} & {S}_{0} & {S}_{9} & {S}_{8} & {S}_{7} & {S}_{6} & {S}_{5} & {S}_{4} & {S}_{3} & {R}_{2} & {R}_{1} & {R}_{0} & {R}_{9} & {R}_{8} & {R}_{7} & {R}_{6} & {R}_{5} & {R}_{4} & {R}_{3}\\\\{S}_{3} & {S}_{2} & {S}_{1} & {S}_{0} & {S}_{9} & {S}_{8} & {S}_{7} & {S}_{6} & {S}_{5} & {S}_{4} & {R}_{3} & {R}_{2} & {R}_{1} & {R}_{0} & {R}_{9} & {R}_{8} & {R}_{7} & {R}_{6} & {R}_{5} & {R}_{4}\\\\{S}_{4} & {S}_{3} & {S}_{2} & {S}_{1} & {S}_{0} & {S}_{9} & {S}_{8} & {S}_{7} & {S}_{6} & {S}_{5} & {R}_{4} & {R}_{3} & {R}_{2} & {R}_{1} & {R}_{0} & {R}_{9} & {R}_{8} & {R}_{7} & {R}_{6} & {R}_{5}\\\\{S}_{5} & {S}_{4} & {S}_{3} & {S}_{2} & {S}_{1} & {S}_{0} & {S}_{9} & {S}_{8} & {S}_{7} & {S}_{6} & {R}_{5} & {R}_{4} & {R}_{3} & {R}_{2} & {R}_{1} & {R}_{0} & {R}_{9} & {R}_{8} & {R}_{7} & {R}_{6}\\\\{S}_{6} & {S}_{5} & {S}_{4} & {S}_{3} & {S}_{2} & {S}_{1} & {S}_{0} & {S}_{9} & {S}_{8} & {S}_{7} & {R}_{6} & {R}_{5} & {R}_{4} & {R}_{3} & {R}_{2} & {R}_{1} & {R}_{0} & {R}_{9} & {R}_{8} & {R}_{7}\\\\{S}_{7} & {S}_{6} & {S}_{5} & {S}_{4} & {S}_{3} & {S}_{2} & {S}_{1} & {S}_{0} & {S}_{9} & {S}_{8} & {R}_{7} & {R}_{6} & {R}_{5} & {R}_{4} & {R}_{3} & {R}_{2} & {R}_{1} & {R}_{0} & {R}_{9} & {R}_{8}\\\\{S}_{8} & {S}_{7} & {S}_{6} & {S}_{5} & {S}_{4} & {S}_{3} & {S}_{2} & {S}_{1} & {S}_{0} & {S}_{9} & {R}_{8} & {R}_{7} & {R}_{6} & {R}_{5} & {R}_{4} & {R}_{3} & {R}_{2} & {R}_{1} & {R}_{0} & {R}_{9}\\\\{S}_{9} & {S}_{8} & {S}_{7} & {S}_{6} & {S}_{5} & {S}_{4} & {S}_{3} & {S}_{2} & {S}_{1} & {S}_{0} & {R}_{9} & {R}_{8} & {R}_{7} & {R}_{6} & {R}_{5} & {R}_{4} & {R}_{3} & {R}_{2} & {R}_{1} & {R}_{0}\\end{array}\\right]$"
          },
          "metadata": {},
          "execution_count": 81
        }
      ]
    }
  ]
}