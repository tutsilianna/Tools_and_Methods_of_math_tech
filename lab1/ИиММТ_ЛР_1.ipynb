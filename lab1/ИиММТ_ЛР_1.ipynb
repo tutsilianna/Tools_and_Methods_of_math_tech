{
  "nbformat": 4,
  "nbformat_minor": 0,
  "metadata": {
    "colab": {
      "provenance": [],
      "collapsed_sections": [
        "J5520VkUxw_h",
        "tTKv3ca5MCL0"
      ],
      "include_colab_link": true
    },
    "kernelspec": {
      "name": "python3",
      "display_name": "Python 3"
    },
    "language_info": {
      "name": "python"
    }
  },
  "cells": [
    {
      "cell_type": "markdown",
      "metadata": {
        "id": "view-in-github",
        "colab_type": "text"
      },
      "source": [
        "<a href=\"https://colab.research.google.com/github/tutsilianna/Tools_and_Methods_of_math_tech/blob/main/lab1/%D0%98%D0%B8%D0%9C%D0%9C%D0%A2_%D0%9B%D0%A0_1.ipynb\" target=\"_parent\"><img src=\"https://colab.research.google.com/assets/colab-badge.svg\" alt=\"Open In Colab\"/></a>"
      ]
    },
    {
      "cell_type": "markdown",
      "source": [
        "1. Для группы диэдра $D_n$ из вашего варианта создать объекты $R_i$ и $S_i$\n",
        "типа Symbol библиотеки SymPy.\n",
        "2. Реализовать функцию, которая выполняет композицию преобразований элементов из группы диэдра по правилу:\n",
        "\n",
        "    $R_iR_j = R_{(i+j)\\mod{n}}$\n",
        "\n",
        "    $S_iR_j = S_{(i−j) \\mod n}$\n",
        "    \n",
        "    $R_iS_j = S_{(i+j) \\mod n}$\n",
        "\n",
        "    $S_iS_j = R_{(i−j) \\mod n}$\n",
        "3. Построить таблицу Кэли для данной группы.\n",
        "4. Для каждого элемента найти обратный к нему.\n",
        "5. Найти порядок каждого элемента группы.\n",
        "6. Найти все подгруппы и построить для них таблицы Кэли."
      ],
      "metadata": {
        "id": "MZsNhD3BvMOP"
      }
    },
    {
      "cell_type": "markdown",
      "source": [
        "**вариант 2:**\n",
        "\n",
        "$D_7, D_{10}$"
      ],
      "metadata": {
        "id": "QrMyc1sdwMlF"
      }
    },
    {
      "cell_type": "markdown",
      "source": [
        "## Подключение библиотеки"
      ],
      "metadata": {
        "id": "QE2zySWFx0zR"
      }
    },
    {
      "cell_type": "code",
      "execution_count": null,
      "metadata": {
        "id": "JtzYJxeLufe0"
      },
      "outputs": [],
      "source": [
        "from sympy import *"
      ]
    },
    {
      "cell_type": "markdown",
      "source": [
        "## Создание объектов $R_i$ и $S_i$"
      ],
      "metadata": {
        "id": "J5520VkUxw_h"
      }
    },
    {
      "cell_type": "code",
      "source": [
        "\"\"\"\n",
        "n = 7\n",
        "\n",
        "R_0, R_1, R_2, R_3, R_4, R_5, R_6 = symbols(f'R:{n}')\n",
        "S_0, S_1, S_2, S_3, S_4, S_5, S_6 = symbols(f'S:{n}')\n",
        "\n",
        "expr = R[0] * S[3]\n",
        "srepr(expr.args[0].args[0].args[0])\n",
        "srepr(expr.args[1].args[0].args[0])\n",
        "\"\"\""
      ],
      "metadata": {
        "id": "fn1RSJOGxvaq"
      },
      "execution_count": null,
      "outputs": []
    },
    {
      "cell_type": "code",
      "source": [
        "n = 7\n",
        "R = IndexedBase('R')\n",
        "S = IndexedBase('S')\n",
        "indx, jndx = symbols('i j')\n",
        "indx = [i for i in range(n)]\n",
        "jndx = [i for i in range(n)]"
      ],
      "metadata": {
        "id": "8qDAbJtn0NZL"
      },
      "execution_count": null,
      "outputs": []
    },
    {
      "cell_type": "markdown",
      "source": [
        "## Функция, которая выполняет композицию преобразований элементов из группы диэдра по правилу"
      ],
      "metadata": {
        "id": "gVibXtcnAjX_"
      }
    },
    {
      "cell_type": "code",
      "source": [
        "def composition_Dn(p1, p2, n):\n",
        "    p1_type = p1.args[0].args[0] # получаем тип символа: S или R\n",
        "    p2_type = p2.args[0].args[0] # (например) = 'S'\n",
        "\n",
        "    #print('p1 type: ', p1_type)\n",
        "    #print('p2 type: ', p2_type)\n",
        "\n",
        "    # simplify - преобразование для сложения индексов\n",
        "    i = simplify(srepr(p1.args[1])) # индекс первого символа\n",
        "    j = simplify(srepr(p2.args[1])) # индекс второго символа\n",
        "\n",
        "    if p1_type == p2_type and p1_type == symbols('R'):         # 1 случай\n",
        "        index = (i + j) % n\n",
        "        return R[index]\n",
        "    elif p1_type == symbols('S') and p2_type == symbols('R'):  # 2 случай\n",
        "        index = (i - j) % n\n",
        "        return S[index]\n",
        "    elif p1_type == symbols('R') and p2_type == symbols('S'):  # 3 случай\n",
        "        index = (i + j) % n\n",
        "        return S[index]\n",
        "    elif p1_type == p2_type and p1_type == symbols('S'):       # 4 случай\n",
        "        index = (i - j) % n\n",
        "        return R[index]\n",
        "\n",
        "composition_Dn(R[6], R[3], n)"
      ],
      "metadata": {
        "id": "15YN67zc6iSN",
        "colab": {
          "base_uri": "https://localhost:8080/",
          "height": 39
        },
        "outputId": "0bd2ec3c-8fe5-4f5d-e635-5b926c887e61"
      },
      "execution_count": null,
      "outputs": [
        {
          "output_type": "execute_result",
          "data": {
            "text/plain": [
              "R[2]"
            ],
            "text/latex": "$\\displaystyle {R}_{2}$"
          },
          "metadata": {},
          "execution_count": 13
        }
      ]
    },
    {
      "cell_type": "markdown",
      "source": [
        "## Построим таблицу Кэли для данной группы"
      ],
      "metadata": {
        "id": "LLQd-XjyJUXf"
      }
    },
    {
      "cell_type": "code",
      "source": [
        "row = [R[i] for i in range(n)] + [S[i] for i in range(n)]"
      ],
      "metadata": {
        "id": "TVkLbYsYKcfc"
      },
      "execution_count": null,
      "outputs": []
    },
    {
      "cell_type": "code",
      "source": [
        "m = [[composition_Dn(row[i], row[j], n) for j in range(2*n)] for i in range(2*n)]\n",
        "Matrix(m)"
      ],
      "metadata": {
        "colab": {
          "base_uri": "https://localhost:8080/",
          "height": 302
        },
        "id": "TzcKru8OJXJG",
        "outputId": "73369b30-7407-424f-9270-55c8ce001ac7"
      },
      "execution_count": null,
      "outputs": [
        {
          "output_type": "execute_result",
          "data": {
            "text/plain": [
              "Matrix([\n",
              "[R[0], R[1], R[2], R[3], R[4], R[5], R[6], S[0], S[1], S[2], S[3], S[4], S[5], S[6]],\n",
              "[R[1], R[2], R[3], R[4], R[5], R[6], R[0], S[1], S[2], S[3], S[4], S[5], S[6], S[0]],\n",
              "[R[2], R[3], R[4], R[5], R[6], R[0], R[1], S[2], S[3], S[4], S[5], S[6], S[0], S[1]],\n",
              "[R[3], R[4], R[5], R[6], R[0], R[1], R[2], S[3], S[4], S[5], S[6], S[0], S[1], S[2]],\n",
              "[R[4], R[5], R[6], R[0], R[1], R[2], R[3], S[4], S[5], S[6], S[0], S[1], S[2], S[3]],\n",
              "[R[5], R[6], R[0], R[1], R[2], R[3], R[4], S[5], S[6], S[0], S[1], S[2], S[3], S[4]],\n",
              "[R[6], R[0], R[1], R[2], R[3], R[4], R[5], S[6], S[0], S[1], S[2], S[3], S[4], S[5]],\n",
              "[S[0], S[6], S[5], S[4], S[3], S[2], S[1], R[0], R[6], R[5], R[4], R[3], R[2], R[1]],\n",
              "[S[1], S[0], S[6], S[5], S[4], S[3], S[2], R[1], R[0], R[6], R[5], R[4], R[3], R[2]],\n",
              "[S[2], S[1], S[0], S[6], S[5], S[4], S[3], R[2], R[1], R[0], R[6], R[5], R[4], R[3]],\n",
              "[S[3], S[2], S[1], S[0], S[6], S[5], S[4], R[3], R[2], R[1], R[0], R[6], R[5], R[4]],\n",
              "[S[4], S[3], S[2], S[1], S[0], S[6], S[5], R[4], R[3], R[2], R[1], R[0], R[6], R[5]],\n",
              "[S[5], S[4], S[3], S[2], S[1], S[0], S[6], R[5], R[4], R[3], R[2], R[1], R[0], R[6]],\n",
              "[S[6], S[5], S[4], S[3], S[2], S[1], S[0], R[6], R[5], R[4], R[3], R[2], R[1], R[0]]])"
            ],
            "text/latex": "$\\displaystyle \\left[\\begin{array}{cccccccccccccc}{R}_{0} & {R}_{1} & {R}_{2} & {R}_{3} & {R}_{4} & {R}_{5} & {R}_{6} & {S}_{0} & {S}_{1} & {S}_{2} & {S}_{3} & {S}_{4} & {S}_{5} & {S}_{6}\\\\{R}_{1} & {R}_{2} & {R}_{3} & {R}_{4} & {R}_{5} & {R}_{6} & {R}_{0} & {S}_{1} & {S}_{2} & {S}_{3} & {S}_{4} & {S}_{5} & {S}_{6} & {S}_{0}\\\\{R}_{2} & {R}_{3} & {R}_{4} & {R}_{5} & {R}_{6} & {R}_{0} & {R}_{1} & {S}_{2} & {S}_{3} & {S}_{4} & {S}_{5} & {S}_{6} & {S}_{0} & {S}_{1}\\\\{R}_{3} & {R}_{4} & {R}_{5} & {R}_{6} & {R}_{0} & {R}_{1} & {R}_{2} & {S}_{3} & {S}_{4} & {S}_{5} & {S}_{6} & {S}_{0} & {S}_{1} & {S}_{2}\\\\{R}_{4} & {R}_{5} & {R}_{6} & {R}_{0} & {R}_{1} & {R}_{2} & {R}_{3} & {S}_{4} & {S}_{5} & {S}_{6} & {S}_{0} & {S}_{1} & {S}_{2} & {S}_{3}\\\\{R}_{5} & {R}_{6} & {R}_{0} & {R}_{1} & {R}_{2} & {R}_{3} & {R}_{4} & {S}_{5} & {S}_{6} & {S}_{0} & {S}_{1} & {S}_{2} & {S}_{3} & {S}_{4}\\\\{R}_{6} & {R}_{0} & {R}_{1} & {R}_{2} & {R}_{3} & {R}_{4} & {R}_{5} & {S}_{6} & {S}_{0} & {S}_{1} & {S}_{2} & {S}_{3} & {S}_{4} & {S}_{5}\\\\{S}_{0} & {S}_{6} & {S}_{5} & {S}_{4} & {S}_{3} & {S}_{2} & {S}_{1} & {R}_{0} & {R}_{6} & {R}_{5} & {R}_{4} & {R}_{3} & {R}_{2} & {R}_{1}\\\\{S}_{1} & {S}_{0} & {S}_{6} & {S}_{5} & {S}_{4} & {S}_{3} & {S}_{2} & {R}_{1} & {R}_{0} & {R}_{6} & {R}_{5} & {R}_{4} & {R}_{3} & {R}_{2}\\\\{S}_{2} & {S}_{1} & {S}_{0} & {S}_{6} & {S}_{5} & {S}_{4} & {S}_{3} & {R}_{2} & {R}_{1} & {R}_{0} & {R}_{6} & {R}_{5} & {R}_{4} & {R}_{3}\\\\{S}_{3} & {S}_{2} & {S}_{1} & {S}_{0} & {S}_{6} & {S}_{5} & {S}_{4} & {R}_{3} & {R}_{2} & {R}_{1} & {R}_{0} & {R}_{6} & {R}_{5} & {R}_{4}\\\\{S}_{4} & {S}_{3} & {S}_{2} & {S}_{1} & {S}_{0} & {S}_{6} & {S}_{5} & {R}_{4} & {R}_{3} & {R}_{2} & {R}_{1} & {R}_{0} & {R}_{6} & {R}_{5}\\\\{S}_{5} & {S}_{4} & {S}_{3} & {S}_{2} & {S}_{1} & {S}_{0} & {S}_{6} & {R}_{5} & {R}_{4} & {R}_{3} & {R}_{2} & {R}_{1} & {R}_{0} & {R}_{6}\\\\{S}_{6} & {S}_{5} & {S}_{4} & {S}_{3} & {S}_{2} & {S}_{1} & {S}_{0} & {R}_{6} & {R}_{5} & {R}_{4} & {R}_{3} & {R}_{2} & {R}_{1} & {R}_{0}\\end{array}\\right]$"
          },
          "metadata": {},
          "execution_count": 6
        }
      ]
    },
    {
      "cell_type": "markdown",
      "source": [
        "## Поиск обратного элемента"
      ],
      "metadata": {
        "id": "tTKv3ca5MCL0"
      }
    },
    {
      "cell_type": "markdown",
      "source": [
        "для поиска обратного элемента для элемента $R_i$, нужно найти такой элемент $R_j$, которые при умножении будут давать единичный элемент, то есть\n",
        "\n",
        "$R_i \\cdot R_j = R_0$\n",
        "\n",
        "$R_{(i+j)\\mod{n}} = R_0  ⇒ $\n",
        "\n",
        "$(i+j)\\mod{n} = 0 ⇒$\n",
        "\n",
        "$i+j = 7 ⇒$\n",
        "\n",
        "$j = 7-i$\n",
        "\n",
        "но т.к. $S_iS_j = R_{(i−j) \\mod n}$, то для поиска обратного элемента для элемента $S_i$, нужно найти такой элемент $S_j$, которые при умножении будут давать единичный элемент, то есть\n",
        "\n",
        "$S_i \\cdot S_j = R_0$\n",
        "\n",
        "$R_{(i-j)\\mod{n}} = R_0  ⇒ $\n",
        "\n",
        "$(i-j)\\mod{n} = 0 ⇒$\n",
        "\n",
        "$i-j = 0 ⇒$\n",
        "\n",
        "$j = i$"
      ],
      "metadata": {
        "id": "TixhxjdngSh8"
      }
    },
    {
      "cell_type": "code",
      "source": [
        "def reverse_element(el):\n",
        "    el_type = el.args[0].args[0] # получаем тип символа: S или R\n",
        "\n",
        "    #print('el type: ', el_type)\n",
        "\n",
        "    # simplify - преобразование для сложения индексов\n",
        "    i = simplify(srepr(el.args[1])) # индекс символа\n",
        "    if el_type == symbols('R'):\n",
        "        j =  7 - i\n",
        "        return R[j]\n",
        "    elif el_type == symbols('S'):\n",
        "        j =  i\n",
        "        return S[j]"
      ],
      "metadata": {
        "id": "tX6MHicpL-0l"
      },
      "execution_count": null,
      "outputs": []
    },
    {
      "cell_type": "code",
      "source": [
        "for i in range(n):\n",
        "    print(f'Обратный элемент для {R[i]}: {reverse_element(R[i])}')"
      ],
      "metadata": {
        "colab": {
          "base_uri": "https://localhost:8080/"
        },
        "id": "MP5aM5WUo6PE",
        "outputId": "87a81f4c-18e5-40d8-a079-7115ca81db64"
      },
      "execution_count": null,
      "outputs": [
        {
          "output_type": "stream",
          "name": "stdout",
          "text": [
            "Обратный элемент для R[0]: R[7]\n",
            "Обратный элемент для R[1]: R[6]\n",
            "Обратный элемент для R[2]: R[5]\n",
            "Обратный элемент для R[3]: R[4]\n",
            "Обратный элемент для R[4]: R[3]\n",
            "Обратный элемент для R[5]: R[2]\n",
            "Обратный элемент для R[6]: R[1]\n"
          ]
        }
      ]
    },
    {
      "cell_type": "code",
      "source": [
        "for i in range(n):\n",
        "    print(f'Обратный элемент для {S[i]}: {reverse_element(S[i])}')"
      ],
      "metadata": {
        "colab": {
          "base_uri": "https://localhost:8080/"
        },
        "id": "LurP490Uo4DA",
        "outputId": "2ac120c4-ed14-4af1-c717-24034ce261ef"
      },
      "execution_count": null,
      "outputs": [
        {
          "output_type": "stream",
          "name": "stdout",
          "text": [
            "Обратный элемент для S[0]: S[0]\n",
            "Обратный элемент для S[1]: S[1]\n",
            "Обратный элемент для S[2]: S[2]\n",
            "Обратный элемент для S[3]: S[3]\n",
            "Обратный элемент для S[4]: S[4]\n",
            "Обратный элемент для S[5]: S[5]\n",
            "Обратный элемент для S[6]: S[6]\n"
          ]
        }
      ]
    },
    {
      "cell_type": "markdown",
      "source": [
        "## Порядок элементов"
      ],
      "metadata": {
        "id": "Ch-KgjnWxZVx"
      }
    },
    {
      "cell_type": "markdown",
      "source": [
        "найдем порядок каждого элемента группы, то есть такое число $m$, при котором выполняется равенство $g^m = e, g -$ элемент группы, $e -$ нейтральный элемент"
      ],
      "metadata": {
        "id": "vRs2A0yqpLu4"
      }
    },
    {
      "cell_type": "code",
      "source": [
        "def order(el):\n",
        "    el_0 = el\n",
        "    m = 1\n",
        "    while el != R[0]:\n",
        "        el = composition_Dn(el, el_0, n)\n",
        "        m += 1\n",
        "    return m"
      ],
      "metadata": {
        "id": "OOZEMbSBqPRf"
      },
      "execution_count": null,
      "outputs": []
    },
    {
      "cell_type": "code",
      "source": [
        "for i in range(n):\n",
        "    print(f'Порядок элемента {R[i]}: {order(R[i])}')"
      ],
      "metadata": {
        "colab": {
          "base_uri": "https://localhost:8080/"
        },
        "id": "WuYflQMrv7tM",
        "outputId": "0c82477b-f063-4106-e2d6-a4c2e66dbd2d"
      },
      "execution_count": null,
      "outputs": [
        {
          "output_type": "stream",
          "name": "stdout",
          "text": [
            "Порядок элемента R[0]: 1\n",
            "Порядок элемента R[1]: 7\n",
            "Порядок элемента R[2]: 7\n",
            "Порядок элемента R[3]: 7\n",
            "Порядок элемента R[4]: 7\n",
            "Порядок элемента R[5]: 7\n",
            "Порядок элемента R[6]: 7\n"
          ]
        }
      ]
    },
    {
      "cell_type": "code",
      "source": [
        "for i in range(n):\n",
        "    print(f'Порядок элемента {S[i]}: {order(S[i])}')"
      ],
      "metadata": {
        "colab": {
          "base_uri": "https://localhost:8080/"
        },
        "id": "ERWwpHUzwHCA",
        "outputId": "f1ba795c-3187-4bbb-d706-b8c6b57eed79"
      },
      "execution_count": null,
      "outputs": [
        {
          "output_type": "stream",
          "name": "stdout",
          "text": [
            "Порядок элемента S[0]: 2\n",
            "Порядок элемента S[1]: 2\n",
            "Порядок элемента S[2]: 2\n",
            "Порядок элемента S[3]: 2\n",
            "Порядок элемента S[4]: 2\n",
            "Порядок элемента S[5]: 2\n",
            "Порядок элемента S[6]: 2\n"
          ]
        }
      ]
    },
    {
      "cell_type": "markdown",
      "source": [
        "должен быть 1?"
      ],
      "metadata": {
        "id": "0b_JLFK77P7o"
      }
    },
    {
      "cell_type": "markdown",
      "source": [
        "## Найдем все подгруппы и построим для них таблицы Кэли"
      ],
      "metadata": {
        "id": "Iht_eaKtwZq1"
      }
    },
    {
      "cell_type": "markdown",
      "source": [
        "По теореме Лагранжа: любая нетривиальная подгруппа группы с 14 элементами должна иметь порядок (мощность) 2 или 7. И тривиальные подгруппы порядка 1 и 14."
      ],
      "metadata": {
        "id": "p7KshExTyBTO"
      }
    },
    {
      "cell_type": "markdown",
      "source": [
        "https://wiki5.ru/wiki/Dihedral_group_of_order_6"
      ],
      "metadata": {
        "id": "tnXk4axE1hw1"
      }
    },
    {
      "cell_type": "code",
      "source": [
        "subgroups = []\n",
        "n1, n2, n7, n14 = 1, 2, 7, 14"
      ],
      "metadata": {
        "id": "coSMClYb1iGM"
      },
      "execution_count": null,
      "outputs": []
    },
    {
      "cell_type": "code",
      "source": [
        "row1 = [R[i] for i in range(n1)] + [S[i] for i in range(n1)]\n",
        "\n",
        "m1 = [[composition_Dn(row1[i], row1[j], n1) for j in range(2*n1)] for i in range(2*n1)]\n",
        "Matrix(m1)"
      ],
      "metadata": {
        "colab": {
          "base_uri": "https://localhost:8080/",
          "height": 58
        },
        "id": "Ho5ui2qr9US5",
        "outputId": "6e9e94eb-0845-4c8a-990c-ebcf1193ea03"
      },
      "execution_count": null,
      "outputs": [
        {
          "output_type": "execute_result",
          "data": {
            "text/plain": [
              "Matrix([\n",
              "[R[0], S[0]],\n",
              "[S[0], R[0]]])"
            ],
            "text/latex": "$\\displaystyle \\left[\\begin{matrix}{R}_{0} & {S}_{0}\\\\{S}_{0} & {R}_{0}\\end{matrix}\\right]$"
          },
          "metadata": {},
          "execution_count": 14
        }
      ]
    },
    {
      "cell_type": "code",
      "source": [
        "row2 = [R[i] for i in range(n2)] + [S[i] for i in range(n2)]\n",
        "\n",
        "m2 = [[composition_Dn(row2[i], row2[j], n2) for j in range(2*n2)] for i in range(2*n2)]\n",
        "Matrix(m2)"
      ],
      "metadata": {
        "colab": {
          "base_uri": "https://localhost:8080/",
          "height": 98
        },
        "id": "KCFs1xmcbI_j",
        "outputId": "b057b3f7-d9b9-44e6-9feb-5e4a326bb5f6"
      },
      "execution_count": null,
      "outputs": [
        {
          "output_type": "execute_result",
          "data": {
            "text/plain": [
              "Matrix([\n",
              "[R[0], R[1], S[0], S[1]],\n",
              "[R[1], R[0], S[1], S[0]],\n",
              "[S[0], S[1], R[0], R[1]],\n",
              "[S[1], S[0], R[1], R[0]]])"
            ],
            "text/latex": "$\\displaystyle \\left[\\begin{matrix}{R}_{0} & {R}_{1} & {S}_{0} & {S}_{1}\\\\{R}_{1} & {R}_{0} & {S}_{1} & {S}_{0}\\\\{S}_{0} & {S}_{1} & {R}_{0} & {R}_{1}\\\\{S}_{1} & {S}_{0} & {R}_{1} & {R}_{0}\\end{matrix}\\right]$"
          },
          "metadata": {},
          "execution_count": 15
        }
      ]
    },
    {
      "cell_type": "code",
      "source": [
        "row7 = [R[i] for i in range(n7)] + [S[i] for i in range(n7)]\n",
        "\n",
        "m7 = [[composition_Dn(row7[i], row7[j], n7) for j in range(2*n7)] for i in range(2*n7)]\n",
        "Matrix(m7)"
      ],
      "metadata": {
        "id": "gzLaT21w9aoz",
        "colab": {
          "base_uri": "https://localhost:8080/",
          "height": 302
        },
        "outputId": "be6b44a1-d525-44af-aec0-5786f92125b9"
      },
      "execution_count": null,
      "outputs": [
        {
          "output_type": "execute_result",
          "data": {
            "text/plain": [
              "Matrix([\n",
              "[R[0], R[1], R[2], R[3], R[4], R[5], R[6], S[0], S[1], S[2], S[3], S[4], S[5], S[6]],\n",
              "[R[1], R[2], R[3], R[4], R[5], R[6], R[0], S[1], S[2], S[3], S[4], S[5], S[6], S[0]],\n",
              "[R[2], R[3], R[4], R[5], R[6], R[0], R[1], S[2], S[3], S[4], S[5], S[6], S[0], S[1]],\n",
              "[R[3], R[4], R[5], R[6], R[0], R[1], R[2], S[3], S[4], S[5], S[6], S[0], S[1], S[2]],\n",
              "[R[4], R[5], R[6], R[0], R[1], R[2], R[3], S[4], S[5], S[6], S[0], S[1], S[2], S[3]],\n",
              "[R[5], R[6], R[0], R[1], R[2], R[3], R[4], S[5], S[6], S[0], S[1], S[2], S[3], S[4]],\n",
              "[R[6], R[0], R[1], R[2], R[3], R[4], R[5], S[6], S[0], S[1], S[2], S[3], S[4], S[5]],\n",
              "[S[0], S[6], S[5], S[4], S[3], S[2], S[1], R[0], R[6], R[5], R[4], R[3], R[2], R[1]],\n",
              "[S[1], S[0], S[6], S[5], S[4], S[3], S[2], R[1], R[0], R[6], R[5], R[4], R[3], R[2]],\n",
              "[S[2], S[1], S[0], S[6], S[5], S[4], S[3], R[2], R[1], R[0], R[6], R[5], R[4], R[3]],\n",
              "[S[3], S[2], S[1], S[0], S[6], S[5], S[4], R[3], R[2], R[1], R[0], R[6], R[5], R[4]],\n",
              "[S[4], S[3], S[2], S[1], S[0], S[6], S[5], R[4], R[3], R[2], R[1], R[0], R[6], R[5]],\n",
              "[S[5], S[4], S[3], S[2], S[1], S[0], S[6], R[5], R[4], R[3], R[2], R[1], R[0], R[6]],\n",
              "[S[6], S[5], S[4], S[3], S[2], S[1], S[0], R[6], R[5], R[4], R[3], R[2], R[1], R[0]]])"
            ],
            "text/latex": "$\\displaystyle \\left[\\begin{array}{cccccccccccccc}{R}_{0} & {R}_{1} & {R}_{2} & {R}_{3} & {R}_{4} & {R}_{5} & {R}_{6} & {S}_{0} & {S}_{1} & {S}_{2} & {S}_{3} & {S}_{4} & {S}_{5} & {S}_{6}\\\\{R}_{1} & {R}_{2} & {R}_{3} & {R}_{4} & {R}_{5} & {R}_{6} & {R}_{0} & {S}_{1} & {S}_{2} & {S}_{3} & {S}_{4} & {S}_{5} & {S}_{6} & {S}_{0}\\\\{R}_{2} & {R}_{3} & {R}_{4} & {R}_{5} & {R}_{6} & {R}_{0} & {R}_{1} & {S}_{2} & {S}_{3} & {S}_{4} & {S}_{5} & {S}_{6} & {S}_{0} & {S}_{1}\\\\{R}_{3} & {R}_{4} & {R}_{5} & {R}_{6} & {R}_{0} & {R}_{1} & {R}_{2} & {S}_{3} & {S}_{4} & {S}_{5} & {S}_{6} & {S}_{0} & {S}_{1} & {S}_{2}\\\\{R}_{4} & {R}_{5} & {R}_{6} & {R}_{0} & {R}_{1} & {R}_{2} & {R}_{3} & {S}_{4} & {S}_{5} & {S}_{6} & {S}_{0} & {S}_{1} & {S}_{2} & {S}_{3}\\\\{R}_{5} & {R}_{6} & {R}_{0} & {R}_{1} & {R}_{2} & {R}_{3} & {R}_{4} & {S}_{5} & {S}_{6} & {S}_{0} & {S}_{1} & {S}_{2} & {S}_{3} & {S}_{4}\\\\{R}_{6} & {R}_{0} & {R}_{1} & {R}_{2} & {R}_{3} & {R}_{4} & {R}_{5} & {S}_{6} & {S}_{0} & {S}_{1} & {S}_{2} & {S}_{3} & {S}_{4} & {S}_{5}\\\\{S}_{0} & {S}_{6} & {S}_{5} & {S}_{4} & {S}_{3} & {S}_{2} & {S}_{1} & {R}_{0} & {R}_{6} & {R}_{5} & {R}_{4} & {R}_{3} & {R}_{2} & {R}_{1}\\\\{S}_{1} & {S}_{0} & {S}_{6} & {S}_{5} & {S}_{4} & {S}_{3} & {S}_{2} & {R}_{1} & {R}_{0} & {R}_{6} & {R}_{5} & {R}_{4} & {R}_{3} & {R}_{2}\\\\{S}_{2} & {S}_{1} & {S}_{0} & {S}_{6} & {S}_{5} & {S}_{4} & {S}_{3} & {R}_{2} & {R}_{1} & {R}_{0} & {R}_{6} & {R}_{5} & {R}_{4} & {R}_{3}\\\\{S}_{3} & {S}_{2} & {S}_{1} & {S}_{0} & {S}_{6} & {S}_{5} & {S}_{4} & {R}_{3} & {R}_{2} & {R}_{1} & {R}_{0} & {R}_{6} & {R}_{5} & {R}_{4}\\\\{S}_{4} & {S}_{3} & {S}_{2} & {S}_{1} & {S}_{0} & {S}_{6} & {S}_{5} & {R}_{4} & {R}_{3} & {R}_{2} & {R}_{1} & {R}_{0} & {R}_{6} & {R}_{5}\\\\{S}_{5} & {S}_{4} & {S}_{3} & {S}_{2} & {S}_{1} & {S}_{0} & {S}_{6} & {R}_{5} & {R}_{4} & {R}_{3} & {R}_{2} & {R}_{1} & {R}_{0} & {R}_{6}\\\\{S}_{6} & {S}_{5} & {S}_{4} & {S}_{3} & {S}_{2} & {S}_{1} & {S}_{0} & {R}_{6} & {R}_{5} & {R}_{4} & {R}_{3} & {R}_{2} & {R}_{1} & {R}_{0}\\end{array}\\right]$"
          },
          "metadata": {},
          "execution_count": 16
        }
      ]
    },
    {
      "cell_type": "markdown",
      "source": [
        "https://math.hashcode.ru/questions/105165/%D0%B0%D0%BB%D0%B3%D0%B5%D0%B1%D1%80%D0%B0-%D0%BD%D0%BE%D1%80%D0%BC%D0%B0%D0%BB%D1%8C%D0%BD%D0%B0%D1%8F-%D0%BF%D0%BE%D0%B4%D0%B3%D1%80%D1%83%D0%BF%D0%BF%D0%B0"
      ],
      "metadata": {
        "id": "hB1my3yX8clf"
      }
    },
    {
      "cell_type": "markdown",
      "source": [
        "https://neerc.ifmo.ru/wiki/index.php?title=%D0%9F%D0%BE%D0%B4%D0%B3%D1%80%D1%83%D0%BF%D0%BF%D0%B0"
      ],
      "metadata": {
        "id": "ue1MSFJC9xtU"
      }
    },
    {
      "cell_type": "markdown",
      "source": [
        "https://wp.wiki-wiki.ru/wp/index.php/%D0%94%D0%B8%D1%8D%D0%B4%D1%80%D0%B8%D1%87%D0%B5%D1%81%D0%BA%D0%B0%D1%8F_%D0%B3%D1%80%D1%83%D0%BF%D0%BF%D0%B0"
      ],
      "metadata": {
        "id": "v5HI6kXS900r"
      }
    },
    {
      "cell_type": "markdown",
      "source": [
        "https://docs.sympy.org/latest/modules/assumptions/predicates.html#matrix"
      ],
      "metadata": {
        "id": "RbO9s2sU91TH"
      }
    }
  ]
}